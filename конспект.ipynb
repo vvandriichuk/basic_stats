{
 "cells": [
  {
   "cell_type": "markdown",
   "metadata": {},
   "source": [
    "\n",
    "# Основы статистики\n",
    "\n",
    "#### конспект лекций\n",
    "\n",
    "Автор лекций: **святой Анатолий Карпов**\n",
    "\n",
    "Конспектировал: **отрок Михаил Курочкин**\n",
    "  - telegram: @mikhail_kurochkin\n",
    "  - instagram: [mikhail_k17](https://www.instagram.com/mikhail_k17/) *если хотите вообще от души поблагодарить - подписка/лайк :)*\n",
    "\n",
    "<img src=\"img/Saint_Karpov.png\" width=400>"
   ]
  },
  {
   "cell_type": "markdown",
   "metadata": {},
   "source": [
    "## Содержание\n",
    "### Часть 1\n",
    " - [Генеральная совокупность и выборка](#Генеральная-совокупность-и-выборка)\n",
    " - [Типы переменных](#Типы-переменных)\n",
    " - [Описательная статистика](#Описательная-статистика)\n",
    " - [Меры центральной тенденции](#Меры-центральной-тенденции)\n",
    "     - [Мода](#Мода)\n",
    "     - [Медиана](#Медиана)\n",
    "     - [Среднее значение](#Среднее-значение)\n",
    "     - [Примеры](#1.Примеры)\n",
    " - [Меры изменчивости](#Меры-изменчивости)\n",
    "    - [Размах](#Размах)\n",
    "    - [Дисперсия](#Дисперсия)\n",
    "    - [Квартили распределения](#Квартили-распределения)\n",
    "    - [Пример](#2.Пример)\n",
    " - [Нормальное распределение](#Нормальное-распределение)\n",
    "    - [Z-преобразование](#Z-преобразование)\n",
    "    - [Правило 3х-сигм](#Правило-3х-сигм)\n",
    "    - [Примеры](#3.Примеры)\n",
    " - [Центральная предельная теорема](#Центральная-предельная-теорема)\n",
    "    - [Примеры](#4.Примеры)\n",
    " - [Доверительные интервалы для среднего](#Доверительные-интервалы-для-среднего)\n",
    " - [Идея статистического вывода](#Идея-статистического-вывода)\n",
    "     - [Статистическая проверка гипотез](#Статистическая-проверка-гипотез)\n",
    "     - [p-уровень значимости](#p-уровень-значимости)\n",
    " \n"
   ]
  },
  {
   "cell_type": "markdown",
   "metadata": {},
   "source": [
    "### Часть 2\n",
    " - [T-распределение](#T-распределение)\n",
    "     - [Подробно про нормальное и t-распредление](#Подробно-про-нормальное-и-t-распредление)\n",
    "     - [Примеры](#5.Примеры)\n",
    " - [Сравнение двух средних; t-критерий Стьюдента](#Сравнение-двух-средних.-t-критерий-Стьюдента)\n",
    "     - [Примеры применения t-критерий Стьюдента](#Примеры-применения-t-критерий-Стьюдента)\n",
    "     - [Построение графиков](#6.-Примеры)\n",
    " - [Проверка распределения на нормальность](#Проверка-распределения-на-нормальность)\n",
    "     - [QQ-plot](#QQ-plot)\n",
    "     - [Примеры](#7.Примеры)\n",
    " - [Однофакторный дисперсионный анализ](#Однофакторный-дисперсионный-анализ)\n",
    " - [Множественные сравнения в ANOVA](#Множественные-сравнения-в-ANOVA)\n",
    "     - [почему мы не можем применить t-критерий для более двух выборок](#почему-мы-не-можем-применить-t-критерий-для-более-двух-выборок)\n",
    " - [Многофакторный ANOVA](#Многофакторный-ANOVA)\n",
    " - [](#)\n",
    "  "
   ]
  },
  {
   "cell_type": "markdown",
   "metadata": {},
   "source": [
    "### Часть 3\n",
    "\n",
    " - [Корреляция](#Корреляция)\n",
    "     - [Ковариация](#Ковариация)\n",
    "     - [Примеры](#Примеры-3.1)\n",
    " - [Регрессия с одной независимой переменной](#Регрессия-с-одной-независимой-переменной)\n",
    " - [Гипотеза о значимости взаимосвязи и коэффициент детерминации](#Гипотеза-о-значимости-взаимосвязи-и-коэффициент-детерминации)\n",
    " - [Условия применения линейной регрессии с одним предиктором](#Условия-применения-линейной-регрессии-с-одним-предиктором)\n",
    " - [Задача предсказания значений зависимой переменной](#Задача-предсказания-значений-зависимой-переменной)\n",
    " - [Регрессионный анализ с несколькими независимыми переменными](#Регрессионный-анализ-с-несколькими-независимыми-переменными)\n",
    "     - [Пример расчёта и визуализации множественной регрессии](#Пример-расчёта-и-визуализации-множественной-регрессии)\n",
    " - [Выбор наилучшей модели](#Выбор-наилучшей-модели)\n",
    " - [Классификация: логистическая регрессия и кластерный анализ](#Классификация:-логистическая-регрессия-и-кластерный-анализ)\n",
    " - [](#)\n",
    " - [](#)\n",
    " - [](#)\n",
    "   \n",
    " \n",
    " \n",
    "\n",
    "[Полезные ссылки](#Полезные-ссылки)"
   ]
  },
  {
   "cell_type": "markdown",
   "metadata": {},
   "source": [
    "# Часть 1"
   ]
  },
  {
   "cell_type": "markdown",
   "metadata": {},
   "source": [
    "## Генеральная совокупность и выборка\n",
    " - **Генеральная совокупность** (от лат. generis — общий, родовой) — совокупность всех объектов, относительно которых предполагается делать выводы при изучении конкретной задачи. Далее ГС.\n",
    " - **Репрезентативная выборка** – это такая выборка, в которой все основные признаки генеральной совокупности, из которой извлечена данная выборка, представлены приблизительно в той же пропорции или с той же частотой, с которой данный признак выступает в этой генеральной совокупности.\n",
    "\n",
    "### Способы репрезентативной выборки:\n",
    " - **Простая случайная выборка** (simple random sample)\n",
    " - **Стратифицированная выборка** (stratified sample) – разделение ГС на страты (группы) а оттуда уже делается случайная выборка.\n",
    " - **Групповая выборка** (cluster sample) – похожие группы выбираются из выборки и далее делается случайная выборка (например, районы одного города)\n",
    " \n",
    "| групповая выборка                                                                                                                | Стратифицированная выборка                                                                              |\n",
    "|----------------------------------------------------------------------------------------------------------------------------------|---------------------------------------------------------------------------------------------------------|\n",
    "| Выборка формируется только из несколько субпопуляций (кластеров)                                                                 | Выборка формируется из всех субпопуляций (страт)                                                        |\n",
    "| В пределах кластера элементы должны быть разнородны, тогда как поддерживается однородность или схожесть между разными кластерами | В пределах страты элементы должны быть однородны, а между стратами должна быть разнородность (различия) |\n",
    "| Схема выборки нужна только для кластеров, попавших в выборку                                                                     | Должна быть сформирована полная схема выборки для всех стратифицированных субпопуляций                  |\n",
    "| Повышает эффективность выборки, уменьшая стоимость                                                                               | Повышает точность                                                                                       |\n",
    "\n"
   ]
  },
  {
   "cell_type": "markdown",
   "metadata": {},
   "source": [
    "## Типы переменных\n",
    "\n",
    " - **Количественные** – измеряемое (например, рост):\n",
    " - **Непрерывные** – переменная принимает любое значение на опр. промежутке;\n",
    " - **Дискретные** – только определенные значения (3.5 ребенка в семье не будет).\n",
    " - **Номинативные** (= качественные) – разделение испытуемых на группы, цифры как маркеры (например: 1 -женщины, 2 – мужчины). Цифры как имена групп, не для расчетов. \n",
    " - **Ранговые** – похоже на номинативные, только возможны сравнения (быстрее/медленнее и т.п.)\n"
   ]
  },
  {
   "cell_type": "markdown",
   "metadata": {},
   "source": [
    "## Описательная статистика\n",
    "### Глоссарий:\n",
    " - **Эмпирические данные** - данные полученные опытным путём.\n",
    "\n",
    " - **Описательная (дескриптивная) статистика** - обработка данных полученных эмпирическим путём и их систематизация, наглядное представление в форме графиков, таблиц, а также их количественное описание посредством основных статистических показателей.\n",
    "\n",
    " - **Распределение вероятностей** - это закон, описывающий область значений случайной величины и вероятность её появления (частоту) в данной области. То есть насколько часто X появляется в данном диапазоне значений.\n",
    "\n",
    " - **Гистограмма частот** - ступенчатая функция показывающая насколько часто вероятно появление величины в указанном диапазоне значений.\n"
   ]
  },
  {
   "cell_type": "markdown",
   "metadata": {},
   "source": [
    "## Меры центральной тенденции\n",
    "тип описательной статистики\n",
    "### Мода\n",
    "Это значение признака, которое встречается максимально часто. В выборке может быть несколько или одна мода.\n",
    "### Медиана\n",
    "Это значение признака, которое делит упорядочное множество попалам. Если множество содержит чётное количество элементов, то берётся среднее из двух серединных элементов упорядочного множества.\n",
    "### Среднее значение\n",
    "Cумма всех значений измеренного признака делится на количество измеренных значений.\n",
    "\n",
    "#### Свойства среднего значения\n",
    "$$M_{x + c} = \\frac{\\sum_{i=1}^{n}{(x_{i} + c)}}{n} = \\frac{\\sum_{i=1}^{n} x_{i}}{n} + \\frac{\\sum_{i=1}^{n} c}{n} = M_{x} + \\frac{nc}{n} = M_{x} + c$$\n",
    "\n",
    "$$M_{x * c} = \\frac{\\sum_{i=1}^{n}{(x_{i} * c)}}{n} = \\frac{c * \\sum_{i=1}^{n} x_{i}}{n} = c * M_{x}$$\n",
    "\n",
    "$$\\sum_{i=1}^{n} (x_{i} - M_{x}) = nM_{x} - nM_{x} = 0$$\n",
    "\n",
    "### 1.Примеры "
   ]
  },
  {
   "cell_type": "code",
   "execution_count": 1,
   "metadata": {},
   "outputs": [
    {
     "name": "stdout",
     "output_type": "stream",
     "text": [
      "mode: ModeResult(mode=array([172]), count=array([4]))\n",
      "median: 170.5\n",
      "mean: 170.4\n"
     ]
    }
   ],
   "source": [
    "'''Расчёт моды, медианы и среднего с помощью библиотек numpy и scipy'''\n",
    "import numpy as np\n",
    "from scipy import stats\n",
    "sample = np.array([185, 175, 170, 169, 171, 175, 157, 172, 170, 172, 167, 173, 168, 167, 166,\n",
    "              167, 169, 172, 177, 178, 165, 161, 179, 159, 164, 178, 172, 170, 173, 171])\n",
    "# в numpy почему-то нет моды\n",
    "print('mode:', stats.mode(sample))\n",
    "print('median:', np.median(sample))\n",
    "print('mean:', np.mean(sample))"
   ]
  },
  {
   "cell_type": "code",
   "execution_count": 2,
   "metadata": {},
   "outputs": [
    {
     "name": "stdout",
     "output_type": "stream",
     "text": [
      "mode: 0    172\n",
      "dtype: int64\n",
      "median: 170.5\n",
      "mean: 170.4\n"
     ]
    }
   ],
   "source": [
    "'''Расчёт моды, медианы и среднего с помощью библиотеки pandas'''\n",
    "import pandas as pd\n",
    "sample = pd.Series([185, 175, 170, 169, 171, 175, 157, 172, 170, 172, 167, 173, 168, 167, 166,\n",
    "              167, 169, 172, 177, 178, 165, 161, 179, 159, 164, 178, 172, 170, 173, 171])\n",
    "\n",
    "print('mode:', sample.mode())\n",
    "print('median:', sample.median())\n",
    "print('mean:', sample.mean())"
   ]
  },
  {
   "cell_type": "markdown",
   "metadata": {},
   "source": [
    "## Меры изменчивости\n",
    "### Размах\n",
    "Это разность между максимальным и минимальным значениям выборки. Крайне чувствителен к взбросам.\n",
    "### Дисперсия\n",
    "\n",
    "Это средний квадрат отклонений индивидуальных значений признака от их средней величины\n",
    "\n",
    "#### Для генеральной совокупности\n",
    "$$D = \\frac{\\sum_{i=1}^{n} (x_{i} - M_{x})^2}{n}$$\n",
    "Среднеквадратическое отклонение\n",
    "$$ \\sigma = \\sqrt{D}$$\n",
    "#### Для выборки\n",
    "$$D = \\frac{\\sum_{i=1}^{n} (x_{i} - M_{x})^2}{n-1}$$\n",
    "где 1 это количество степеней свободы\n",
    "Важно отменить, что среднеквадратическое отклонение для выборки обозначают по другому, как **sd** - standart deviation\n",
    "\n",
    "#### Ликбез: Почему именно квадрат, а не модуль или куб?\n",
    " Могу предположить, что линейное отклонение более чувствительно выбросам, квадратичное менее, кубическое — ещё менее чувствительно.\n",
    " Попробовал посчитать для 3-х выборок: [1,2,3,4,5], [1,2,3,4,50] и [1,2,3,4,500]:\n",
    "\n",
    " - Линейное: 2.5, 452.5 и 49502.5\n",
    " - Квадратичное: 1.58, 21.27 и 222.49\n",
    " - Кубическое: 1.36, 7.68, и 36.71\n",
    " \n",
    "Модуль не берут потому, что модуль - не гладкая функция. В нуле у модуля имеется \"излом\" из-за которого у производной происходит разрыв.\n",
    "А очень многие математические теоремы, которые наверняка потребуются дальше, работают только на гладких функциях.\n",
    "\n",
    "Вообще, с не гладкими функциями работать не любят. Там все становится сложнее. Поэтому берется квадрат.\n",
    "[Source](#https://stepik.org/lesson/8076/step/5?discussion=49741&unit=1356)\n",
    "\n",
    "#### Свойства дисперсии\n",
    "\n",
    "$$ D_{x+c} = D_x $$\n",
    "$$ D_{x*c} = D_x+c^2 $$\n",
    "\n",
    "### Квартили распределения\n",
    "**Квартили** - это три точки(значения признака), которые делят **упорядочное** множество данных на 4 равные части.\n",
    "\n",
    "**Box plot** - такой вид диаграммы в удобной форме показывает медиану, нижний и верхний квартили, минимальное и максимальное значение выборки и выбросы.\n",
    "\n",
    "<img src=\"img/boxplot.png\" width=400>\n",
    "\n",
    "Квартили и inter quartile range используют, чтобы оценить наличие выбросов. Алгоритм расчета - посчитали квартили, посчитали разницу между ними, вычислили теоретический максимум и минимум, сравнили с имеющимся и выяснили есть ли у вас выбросы и сколько их. Если много, то нужно анализировать и решать брать ли их в выборку или нет. \n",
    "\n",
    "### 2.Пример\n"
   ]
  },
  {
   "cell_type": "code",
   "execution_count": 3,
   "metadata": {},
   "outputs": [
    {
     "name": "stdout",
     "output_type": "stream",
     "text": [
      "Range: 28 is equal max - min: 28\n",
      "Standard deviation: 6.00\n"
     ]
    }
   ],
   "source": [
    "'''Расчитываем размах и стандартное отклонение с помощью numpy'''\n",
    "import numpy as np\n",
    "sample = np.array([185, 175, 170, 169, 171, 175, 157, 172, 170, 172, 167, 173, 168, 167, 166,\n",
    "              167, 169, 172, 177, 178, 165, 161, 179, 159, 164, 178, 172, 170, 173, 171])\n",
    "\n",
    "# The name of the function comes from the acronym for ‘peak to peak’.\n",
    "print(f'Range: {np.ptp(sample)} is equal max - min: {np.max(sample)- np.min(sample)}')\n",
    "\n",
    "# ddof - Delta Degrees of Freedom\n",
    "print(f'Standard deviation: {np.std(sample, ddof=1):.2f}')"
   ]
  },
  {
   "cell_type": "markdown",
   "metadata": {},
   "source": [
    "#### Диаграмма boxplot"
   ]
  },
  {
   "cell_type": "code",
   "execution_count": 4,
   "metadata": {},
   "outputs": [
    {
     "data": {
      "image/png": "[encoded data removed]",
      "text/plain": [
       "<Figure size 432x288 with 1 Axes>"
      ]
     },
     "metadata": {
      "needs_background": "light"
     },
     "output_type": "display_data"
    }
   ],
   "source": [
    "'''с помощью диаграммы boxplot мы можем узнать медиану, 2 и 3 квартиль'''\n",
    "import matplotlib.pyplot as plt\n",
    "\n",
    "\n",
    "plt.boxplot(sample, showfliers=1)\n",
    "plt.show()"
   ]
  },
  {
   "cell_type": "markdown",
   "metadata": {},
   "source": [
    "## Нормальное распределение\n",
    "**Коротко**\n",
    " - Унимодально\n",
    " - Симметрично\n",
    " - Отклонения наблюдений от среднего подчиняются определённому вероятностному закону\n",
    " \n",
    "**Подробно**\n",
    "\n",
    "Нормальное распределение возникает в результате воздействия множества факторов, вклад каждого из которых очень мал.\n",
    "\n",
    "Для облегчения этого восприятия в 1873 году Фрэнсис Гальтон сделал устройство, которое в последствии назвали Доской Галтона (или квинкункс). Суть простая: сверху по середине подаются шарики, которые при прохождении нескольких уровней (например, 10-ти) на каждом уровне сталкиваются с препятствием, и при каждом столкновении отскакивают либо влево, либо вправо (с равной вероятностью).\n",
    "\n",
    "Как вы догадываетесь, результатом прохождения - это распределение, стремящееся к нормальному!\n",
    "\n",
    "Выглядит это так:\n",
    "\n",
    "<img src=\"img/гальтон.gif\" width=500>\n",
    "\n",
    "Или в виде кода:"
   ]
  },
  {
   "cell_type": "code",
   "execution_count": 5,
   "metadata": {},
   "outputs": [
    {
     "data": {
      "image/png": "[encoded data removed]",
      "text/plain": [
       "<Figure size 432x288 with 1 Axes>"
      ]
     },
     "metadata": {
      "needs_background": "light"
     },
     "output_type": "display_data"
    }
   ],
   "source": [
    "'''Иммитация доски Гальтона в коде'''\n",
    "import seaborn as sns\n",
    "data = dict()\n",
    "# количество шариков\n",
    "N = 10000\n",
    "# количество уровней\n",
    "level = 20\n",
    "for _ in range(N):\n",
    "    index = 0\n",
    "    for _ in range(level):\n",
    "        index += np.random.choice([-1, 1])\n",
    "    data.setdefault(index, 0)\n",
    "    data[index] += 1\n",
    "sns.barplot(x=list(data.keys()), y=list(data.values()));"
   ]
  },
  {
   "cell_type": "markdown",
   "metadata": {},
   "source": [
    "### Z-преобразование\n",
    "\n",
    "Преобразование полученных данных в стандартную Z-шкалу (Z-scores) со средним значением = 0 и дисперсией = 1. Чтобы привести к такому виду из каждого наблюдения нужно отнять среднее значение и разделитьв на стандартное отклонение. \n",
    "\n",
    "$$ Z_{i}=\\frac{x_{i} - \\bar{X}}{sd} $$\n",
    "\n",
    "Иногда нам необходимо рассчитать z - значение только для отдельно взятого наблюдения, чтоб выяснить насколько далеко оно отклоняется от среднего значения в единицах стандартного отклонения.\n",
    "\n",
    "### Правило 3х-сигм\n",
    "\n",
    "<img src=\"img/3-sigma.svg\">\n",
    "\n",
    "\n",
    "### 3.Примеры"
   ]
  },
  {
   "cell_type": "code",
   "execution_count": 6,
   "metadata": {},
   "outputs": [
    {
     "name": "stdout",
     "output_type": "stream",
     "text": [
      "Только у 4.78% людей, IQ>125\n"
     ]
    }
   ],
   "source": [
    "''' Считается, что значение IQ (уровень интеллекта) у людей имеет нормальное распределение\n",
    "со средним значением равным 100 и стандартным отклонением равным 15 (M = 100, sd = 15).\n",
    "Какой приблизительно процент людей обладает IQ > 125?\n",
    "'''\n",
    "\n",
    "from scipy import stats\n",
    "mean = 100\n",
    "std = 15\n",
    "IQ=125\n",
    "# sf - Survival function = (1 - cdf) - Cumulative distribution function\n",
    "print(f\"Только у {(stats.norm(mean, std).sf(IQ))*100:.2f}% людей, IQ>{IQ}\")"
   ]
  },
  {
   "cell_type": "markdown",
   "metadata": {},
   "source": [
    "## Центральная предельная теорема\n",
    "\n",
    "Гласит, что множество средних выборок из генеральной совокупности (ГС необязательно иметь нормальное распределние) будут иметь нормальное распределение. Причём средняя этого распределения будет близко к средней генеральной совокупности, а стандарное отклонение этого распределение будет називаться **стандарной ошибкой среднего** (se).\n",
    "\n",
    "Зная стандартное отклонение ГС и размер выборки мы можем рассчитать стандартную ошибку среднего.\n",
    "\n",
    "$$ se = \\frac{\\sigma}{\\sqrt{N}} $$\n",
    "\n",
    "где N - размер выборки. Если размер выборки достаточно большой (>30) и она является репрезативна, то вместо стандарного отклонения ГС мы можем взять стандарное отклонение выборки.\n",
    "\n",
    "$$ se = \\frac{sd}{\\sqrt{N}} $$\n",
    "\n",
    "Стандартная ошибка среднего - это среднеквадратическое отклонение распределения выборочных средних\n",
    "### 4.Примеры\n",
    "Проверим на практике все эти законы."
   ]
  },
  {
   "cell_type": "code",
   "execution_count": 7,
   "metadata": {},
   "outputs": [
    {
     "data": {
      "text/plain": [
       "<AxesSubplot:ylabel='Frequency'>"
      ]
     },
     "execution_count": 7,
     "metadata": {},
     "output_type": "execute_result"
    },
    {
     "data": {
      "image/png": "[encoded data removed]",
      "text/plain": [
       "<Figure size 432x288 with 1 Axes>"
      ]
     },
     "metadata": {
      "needs_background": "light"
     },
     "output_type": "display_data"
    }
   ],
   "source": [
    "import numpy as np\n",
    "import pandas as pd\n",
    "import matplotlib.pyplot as plt\n",
    "import math\n",
    "\n",
    "# значения игральной кости\n",
    "dice = [1, 2, 3, 4, 5, 6]\n",
    "# количество бросков кости\n",
    "count = 6\n",
    "# размер генеральной совокупность\n",
    "sp_size = 10000\n",
    "# sp - Statistical population - генеральная совокупность\n",
    "sp = pd.Series(dtype=np.int64, index=range(sp_size))\n",
    "for i in range(sp_size):\n",
    "    value = 0\n",
    "    for _ in range(count):\n",
    "        value += np.random.choice(dice)\n",
    "    sp[i] = value\n",
    "\n",
    "sp.plot.hist(bins=28)"
   ]
  },
  {
   "cell_type": "code",
   "execution_count": 8,
   "metadata": {},
   "outputs": [
    {
     "data": {
      "image/png": "[encoded data removed]",
      "text/plain": [
       "<Figure size 1152x720 with 12 Axes>"
      ]
     },
     "metadata": {
      "needs_background": "light"
     },
     "output_type": "display_data"
    }
   ],
   "source": [
    "# количество выборок\n",
    "samples_count = 10\n",
    "# размер выборки\n",
    "sample_size = 200\n",
    "samples = pd.DataFrame([\n",
    "    [np.random.choice(sp) for _ in range(sample_size)] for __ in range(samples_count)\n",
    "]).T\n",
    "\n",
    "samples.hist(figsize=(16, 10), sharex=0)\n",
    "plt.subplots_adjust(hspace = 0.6)\n"
   ]
  },
  {
   "cell_type": "code",
   "execution_count": 9,
   "metadata": {},
   "outputs": [
    {
     "name": "stdout",
     "output_type": "stream",
     "text": [
      "сравним среднию ГС и среднию средних выборок 21.0895 20.925\n",
      "разница: 0.1645000000000003 , стандартная ошибка среднего: 0.4732687749401317\n"
     ]
    }
   ],
   "source": [
    "means = samples.mean()\n",
    "print('сравним среднию ГС и среднию средних выборок', sp.mean(), means.mean())\n",
    "print('разница:', abs(means.mean() - sp.mean()), ', стандартная ошибка среднего:', means.std())"
   ]
  },
  {
   "cell_type": "code",
   "execution_count": 10,
   "metadata": {},
   "outputs": [
    {
     "name": "stdout",
     "output_type": "stream",
     "text": [
      "sample mean: 20.25\n",
      "sample SE:  0.31708074839861394\n"
     ]
    }
   ],
   "source": [
    "# возмем произвольную выборку \n",
    "sample = samples[0]\n",
    "print('sample mean:', sample.mean())\n",
    "print('sample SE: ', sample.std()/math.sqrt(sample.size))"
   ]
  },
  {
   "cell_type": "markdown",
   "metadata": {},
   "source": [
    "### PS Важное замечание о ЦПТ номер 2.\n",
    "\n",
    "Пожалую самый сложный момент - это как мы так взяли и заменили стандартное отклонение генеральной совокупности на выборочное. Ну и что с того, что у нас выборка объемом больше 30 наблюдений, что за магическое число такое? \n",
    "\n",
    "Все правильно, никакой магии не происходит. И совсем скоро мы в этом окончательно разберемся. Как только пройдем тему t - распределения во втором модуле. Вот тут я подробно расписал, как же нам нужно рассчитывать стандартную ошибку среднего, если мы не знаем стандартное отклонение в генеральной совокупности."
   ]
  },
  {
   "cell_type": "markdown",
   "metadata": {},
   "source": [
    "## Доверительные интервалы для среднего\n",
    "\n",
    "Если мы имеем некоторую выборку и ГС, то мы **не можем точно** знать среднюю ГС, зная только среднее выборки. Однако **мы можем сказать, с некоторым процентом уверенности**, в каком интервале лежит средняя ГС. Понятно дело, что для нас лучше, чтобы этот интервал был как можно меньше, как это сделать?"
   ]
  },
  {
   "cell_type": "markdown",
   "metadata": {},
   "source": [
    "Мы знаем, средняя средних выборок, стремится к средней ГС, также мы знаем, что стандартная ошибка среднего описывает стандартное отклонение распределения средних выборок. Если мы возьмём случайную выборку $X$ и найдём её среднее $\\bar{X}$, а также вычислим стандартную ошибку $se$, то мы можем вычислить доверительный интевал $[\\bar{X} - 1.96*se; \\bar{X} + 1.96*se]$ который описывает среднюю ГС с некотором интервале с 95% доверия.\n",
    "\n",
    "Загадочное число **1,96** это количество сигм $\\sigma$ в нормальном распределение, необходимые, чтобы охватить **95%** значений в этом распределнии.\n",
    "\n",
    "<img src=\"img/norm_196.png\" width=200>"
   ]
  },
  {
   "cell_type": "markdown",
   "metadata": {},
   "source": [
    "### Если мы рассчитали 95% доверительный интервал для среднего значения, это значит:\n",
    "\n",
    " - <font color='crimson'>Среднее значение в генеральной совокупности точно принадлежит рассчитанному доверительному интервалу.</font>\n",
    " - <font color='green'>Мы можем быть на 95% уверены, что среднее значение в генеральной совокупности принадлежит рассчитанному доверительному интервалу.</font>\n",
    " - <font color='green'>Если многократно повторять эксперимент, для каждой выборки рассчитывать свой доверительный интервал, то в 95 % случаев истинное среднее будет находиться внутри доверительного интервала.</font>\n",
    " - <font color='crimson'>Среднее значение в генеральной совокупности точно превышает нижнюю границу 95% доверительного интервала.</font>\n",
    " - <font color='crimson'>Если многократно повторять эксперимент, то 95 % выборочных средних значений будут принадлежать рассчитанному нами доверительному интервалу.</font> да-да, тут просто надо представить это в уме\n",
    " \n",
    " __Если из лекции усвоить разницу между средним ГС и средним выборки, а так же понять, что доверительный интервал строится для выборки, а не для ГС, то ответы в тесте легко определяются.__\n",
    "  "
   ]
  },
  {
   "cell_type": "code",
   "execution_count": 1,
   "metadata": {},
   "outputs": [
    {
     "name": "stdout",
     "output_type": "stream",
     "text": [
      "1.96 sigma\n"
     ]
    }
   ],
   "source": [
    "'''Вычисление 1.96 c помощью scipy'''\n",
    "from scipy import stats\n",
    "\n",
    "# 95%\n",
    "p = 0.95\n",
    "# так как у нас двухсторонний интервал, сделаем вычисление\n",
    "alpha = (1-p)/2\n",
    "# isf - Inverse survival function (inverse of sf) \n",
    "print(f'{stats.norm().isf(alpha):.2f} sigma')"
   ]
  },
  {
   "cell_type": "code",
   "execution_count": 12,
   "metadata": {},
   "outputs": [
    {
     "name": "stdout",
     "output_type": "stream",
     "text": [
      "[8.71; 11.29]\n"
     ]
    }
   ],
   "source": [
    "'''Рассчитайте 99% доверительный интервал для следующего примера: \n",
    "среднее = 10, стандартное отклонение = 5, размер выборки = 100\n",
    "'''\n",
    "from numpy import sqrt\n",
    "from scipy import stats\n",
    "\n",
    "p = 0.99\n",
    "mean = 10\n",
    "std = 5\n",
    "n = 100\n",
    "\n",
    "se = std/sqrt(n)\n",
    "alpha = (1-p)/2\n",
    "sigma = stats.norm().isf(alpha)\n",
    "сonfidence_interval = mean - sigma*se, mean + sigma*se\n",
    "print('[%.2f; %.2f]' % сonfidence_interval)"
   ]
  },
  {
   "cell_type": "markdown",
   "metadata": {},
   "source": [
    "## Идея статистического вывода\n",
    "### Статистическая проверка гипотез\n",
    "\n",
    "\n",
    "### p-уровень значимости\n",
    "\n",
    "p-уровень значимости - это вероятность получить такие или более выраженные различия при условии, что в генеральной совокупности никаких различий на самом деле нет.\n",
    "\n"
   ]
  },
  {
   "cell_type": "markdown",
   "metadata": {},
   "source": [
    "<hr>"
   ]
  },
  {
   "cell_type": "markdown",
   "metadata": {},
   "source": [
    "\n",
    "\n",
    "\n",
    "# Часть 2"
   ]
  },
  {
   "cell_type": "markdown",
   "metadata": {},
   "source": [
    "## T-распределение\n",
    "\n",
    "Распределение Стьюдента по сути представляет собой сумму нескольких нормально распределенных случайных величин. Чем больше величин, тем больше верятность, что их сумма будет иметь нормальное распределение. Таким образом, количество суммируемых величин определяет важнейший параметр формы данного распредения - число степеней свободы."
   ]
  },
  {
   "cell_type": "code",
   "execution_count": 13,
   "metadata": {},
   "outputs": [
    {
     "data": {
      "image/png": "[encoded data removed]",
      "text/plain": [
       "<Figure size 432x288 with 1 Axes>"
      ]
     },
     "metadata": {
      "needs_background": "light"
     },
     "output_type": "display_data"
    }
   ],
   "source": [
    "'''График снизу показывает, как меняется форма распределения при увеличение количества степеней свободы.\n",
    "А также показывает приближение t-распредееления к нормальному по мере увеличения степеней свободы.'''\n",
    "from scipy.stats import t, norm\n",
    "import numpy as np\n",
    "import matplotlib.pyplot as plt\n",
    "\n",
    "\n",
    "x = np.linspace(-5, 5, 100)\n",
    "y1, y2, y3 = t.pdf(x, df=1), t.pdf(x, df=3), t.pdf(x, df=10)\n",
    "y4 = norm.pdf(x)\n",
    "\n",
    "plt.title('графики t-распредления с разными степенями свободы')\n",
    "plt.plot(x, y1)\n",
    "plt.plot(x, y2)\n",
    "plt.plot(x, y3)\n",
    "plt.plot(x, y4, 'r:')\n",
    "plt.legend(('df=1', 'df=3', 'df=10', 'norm'))\n",
    "plt.show()"
   ]
  },
  {
   "cell_type": "markdown",
   "metadata": {},
   "source": [
    "График плотности распределения Стьюдента, как и нормального распределения, является симметричным и имеет вид колокола, но с более «тяжёлыми» хвостами."
   ]
  },
  {
   "cell_type": "markdown",
   "metadata": {},
   "source": [
    "### Подробно про нормальное и t-распредление\n",
    "\n",
    "В видео лекциях говорилось, что мы используем t-распределение в ситуации небольшого объема выборки. Необходимо более подробно пояснить, зачем это нужно.\n",
    "\n",
    "Вернемся к предельной центральной теореме, мы уже узнали, что если некий признак в генеральной совокупности распределен **нормально** со средним $\\mu$ и стандартным отклонением $\\sigma$, и мы будем многократно извлекать выборки одинакового размера n, и для каждой выборки рассчитывать, как далеко выборочное среднее $\\bar{X}$ ˉ\n",
    " отклонилось от среднего в генеральной совокупности в единицах стандартной ошибки среднего:\n",
    " \n",
    "\n",
    "$$\\large z = \\frac{\\bar{X} - \\mu}{\\frac{\\sigma}{\\sqrt{n}}}$$\n",
    "\n",
    "то эта величина z будет иметь стандартное нормальное распределение со средним равным нулю и стандартным отклонением равным единице.\n",
    "\n",
    "Обратите внимание, что для расчета стандартной ошибки мы используем именно стандартное отклонение в генеральной совокупности - $\\sigma$. Ранее мы уже обсуждали, что на практике $\\sigma$ нам практически никогда не известна, и для расчета стандартной ошибки мы используем выборочное стандартное отклонение.\n",
    "\n",
    "Так вот, строго говоря в таком случае распределение отклонения выборочного среднего и среднего в генеральной совокупности, деленного на стандартную ошибку, теперь будет описываться именно при помощи t - распределения.\n",
    "\n",
    "$$\\large t = \\frac{\\bar{X} - \\mu}{\\frac{sd}{\\sqrt{n}}}$$\n",
    "\n",
    "\n",
    "таким образом, в случае неизвестной $\\sigma$ мы **всегда будем иметь дело с t-распределением**. На этом этапе вы должны с негодованием спросить меня, почему же мы применяли z-критерий в первом модуле курса, для проверки гипотез, используя выборочное стандартное отклонение?\n",
    "\n",
    "Мы уже знаем, что при довольно большом объеме выборки (обычно в учебниках приводится правило, n > 30) t-распределение совсем близко подбирается к нормальному распределению:\n",
    "\n",
    "Поэтому иногда, для простоты расчетов говорится, что если n > 30, то мы будем использовать свойства нормального распределения для наших целей. Строго говоря, это конечно неправильный подход, который часто критикуют. В до компьютерную эпоху этому было некоторое объяснение, чтобы не рассчитывать для каждого n больше 30 соответствующее критическое значение t - распределения, статистики как бы округляли результат и использовали нормальное распределение для этих целей. Сегодня, конечно, с этим больше никаких проблем нет, и все статистические программы, разумеется, без труда рассчитают все необходимые показатели для t - распределения с любым числом степеней свободы. Действительно при выборках очень большого объема t - распределение практически не будет отличаться от нормального, однако, хоть и очень малые но различия все равно будут.\n",
    "\n",
    "Поэтому, правильнее будет сказать, что мы используем t - распределение не потому что у нас маленькие выборки, а потому что мы не знаем стандартное отклонение в генеральной совокупности. Поэтому в дальнейшем мы всегда будем использовать t - распределение для проверки гипотез, если нам неизвестно стандартное отклонение в генеральной совокупности, необходимое для расчета стандартной ошибки, даже если объем выборки больше 30.\n",
    "\n",
    "### 5.Примеры"
   ]
  },
  {
   "cell_type": "code",
   "execution_count": 14,
   "metadata": {},
   "outputs": [
    {
     "name": "stdout",
     "output_type": "stream",
     "text": [
      "p = 0.065\n"
     ]
    }
   ],
   "source": [
    "'''На выборке в 15 наблюдений при помощи одновыборочного t-теста\n",
    "проверяется нулевая гипотеза: μ=10 \n",
    "и рассчитанное t-значение равняется -2 (t = -2), то p-уровень значимости  (двусторонний) равен:\n",
    "'''\n",
    "from scipy import stats\n",
    "\n",
    "t = -2\n",
    "n = 15\n",
    "df = n - 1\n",
    "\n",
    "p = 2 * stats.t.sf(abs(t), df)\n",
    "print(f'p = {p:.3f}')"
   ]
  },
  {
   "cell_type": "markdown",
   "metadata": {},
   "source": [
    "## Сравнение двух средних. t-критерий Стьюдента\n",
    "\n",
    "t-критерий Стьюдента — общее название для статистических тестов, в которых статистика критерия имеет распределение Стьюдента. Наиболее часто t-критерии применяются для проверки равенства средних значений в двух выборках. Нулевая гипотеза предполагает, что средние равны (отрицание этого предположения называют гипотезой сдвига). Для применения данного критерия необходимо, чтобы исходные данные имели нормальное распределение. \n",
    "\n",
    "$$ t = \\frac{\\bar{X_1} - \\bar{X_2}}{se}$$\n",
    "\n",
    "$$ se = \\sqrt{\\frac{sd_1^2}{n_1} + \\frac{sd_2^2}{n_2}} $$\n",
    "\n",
    "Откуда берётся такая формула $se$?:\n",
    "\n",
    "$$ (se_1)^2 = (\\frac{sd_1}{\\sqrt{n_1}})^2 = \\frac{sd_1^2}{n_1} $$\n",
    " \n",
    "То есть:\n",
    "\n",
    "$$ se = \\sqrt{\\frac{sd_1^2}{n_1} + \\frac{sd_2^2}{n_2}} = \\sqrt{se_1^2 + se_2^2} $$\n",
    "\n",
    "причем ответ на вопрос, почему верно это равенство, кроется в свойстве дисперсии: дисперсия суммы независимых случайных величин равна сумме их дисперсий. а отклонение - это корень из дисперсии. отсюда ваша последняя формула"
   ]
  },
  {
   "cell_type": "markdown",
   "metadata": {},
   "source": [
    "### Примеры применения t-критерий Стьюдента\n",
    "**Пример 1.** Первая выборка — это пациенты, которых лечили препаратом А. Вторая выборка — пациенты, которых лечили препаратом Б. Значения в выборках — это некоторая характеристика эффективности лечения (уровень метаболита в крови, температура через три дня после начала лечения, срок выздоровления, число койко-дней, и т.д.) Требуется выяснить, имеется ли значимое различие эффективности препаратов А и Б, или различия являются чисто случайными и объясняются «естественной» дисперсией выбранной характеристики.\n",
    "\n",
    "**Пример 2.** Первая выборка — это значения некоторой характеристики состояния пациентов, записанные до лечения. Вторая выборка — это значения той же характеристики состояния тех же пациентов, записанные после лечения. Объёмы обеих выборок обязаны совпадать; более того, порядок элементов (в данном случае пациентов) в выборках также обязан совпадать. Такие выборки называются связными. Требуется выяснить, имеется ли значимое отличие в состоянии пациентов до и после лечения, или различия чисто случайны.\n",
    "\n",
    "**Пример 3.** Первая выборка — это поля, обработанные агротехническим методом А. Вторая выборка — поля, обработанные агротехническим методом Б. Значения в выборках — это урожайность. Требуется выяснить, является ли один из методов эффективнее другого, или различия урожайности обусловлены случайными факторами.\n",
    "\n",
    "**Пример 4.** Первая выборка — это дни, когда в супермаркете проходила промо-акция типа А (красные ценники со скидкой). Вторая выборка — дни промо-акции типа Б (каждая пятая пачка бесплатно). Значения в выборках — это показатель эффективности промо-акции (объём продаж, либо выручка в рублях). Требуется выяснить, какой из типов промо-акции более эффективен.\n",
    "\n",
    "### 6. Примеры"
   ]
  },
  {
   "cell_type": "code",
   "execution_count": 15,
   "metadata": {},
   "outputs": [
    {
     "data": {
      "text/html": [
       "<div>\n",
       "<style scoped>\n",
       "    .dataframe tbody tr th:only-of-type {\n",
       "        vertical-align: middle;\n",
       "    }\n",
       "\n",
       "    .dataframe tbody tr th {\n",
       "        vertical-align: top;\n",
       "    }\n",
       "\n",
       "    .dataframe thead th {\n",
       "        text-align: right;\n",
       "    }\n",
       "</style>\n",
       "<table border=\"1\" class=\"dataframe\">\n",
       "  <thead>\n",
       "    <tr style=\"text-align: right;\">\n",
       "      <th></th>\n",
       "      <th>Mx</th>\n",
       "      <th>SD</th>\n",
       "      <th>N</th>\n",
       "      <th>SE</th>\n",
       "      <th>interval</th>\n",
       "    </tr>\n",
       "  </thead>\n",
       "  <tbody>\n",
       "    <tr>\n",
       "      <th>Выборка1</th>\n",
       "      <td>100.815</td>\n",
       "      <td>10.246503</td>\n",
       "      <td>20.0</td>\n",
       "      <td>2.291188</td>\n",
       "      <td>4.545754</td>\n",
       "    </tr>\n",
       "    <tr>\n",
       "      <th>Выборка2</th>\n",
       "      <td>75.735</td>\n",
       "      <td>15.458102</td>\n",
       "      <td>20.0</td>\n",
       "      <td>3.456537</td>\n",
       "      <td>6.886174</td>\n",
       "    </tr>\n",
       "  </tbody>\n",
       "</table>\n",
       "</div>"
      ],
      "text/plain": [
       "               Mx         SD     N        SE  interval\n",
       "Выборка1  100.815  10.246503  20.0  2.291188  4.545754\n",
       "Выборка2   75.735  15.458102  20.0  3.456537  6.886174"
      ]
     },
     "execution_count": 15,
     "metadata": {},
     "output_type": "execute_result"
    }
   ],
   "source": [
    "import pandas as pd\n",
    "from scipy.stats import t\n",
    "import matplotlib.pyplot as plt\n",
    "import numpy as np\n",
    "\n",
    "array1 = np.array([84.7, 105.0, 98.9, 97.9, 108.7, 81.3, 99.4, 89.4, 93.0,\n",
    "                   119.3, 99.2, 99.4, 97.1, 112.4, 99.8, 94.7, 114.0, 95.1, 115.5, 111.5])\n",
    "array2 = np.array([57.2, 68.6, 104.4, 95.1, 89.9, 70.8, 83.5, 60.1, 75.7,\n",
    "                   102.0, 69.0, 79.6, 68.9, 98.6, 76.0, 74.8, 56.0, 55.6, 69.4, 59.5])\n",
    "\n",
    "# считаем количество элементов, среднее, стандартное отклонение и стандартную ошибку\n",
    "df = pd.DataFrame({'Выборка1':array1, 'Выборка2':array2}).agg(['mean','std','count','sem']).transpose()\n",
    "df.columns = ['Mx','SD','N','SE']\n",
    "\n",
    "# рассчитываем 95% интервал отклонения среднего\n",
    "p = 0.95\n",
    "K = t.ppf((1 + p)/2, df['Mx']-1)\n",
    "df['interval'] = K * df['SE']\n",
    "\n",
    "df"
   ]
  },
  {
   "cell_type": "code",
   "execution_count": 16,
   "metadata": {},
   "outputs": [
    {
     "data": {
      "image/png": "[encoded data removed]",
      "text/plain": [
       "<Figure size 1008x648 with 2 Axes>"
      ]
     },
     "metadata": {
      "needs_background": "light"
     },
     "output_type": "display_data"
    }
   ],
   "source": [
    "\n",
    "\n",
    "#строим графики, boxplot из изначальных данных array1, array2,  доверительные интервалы из датафрейма df\n",
    "fig, (ax1, ax2) = plt.subplots(nrows=1, ncols=2, figsize=(14, 9))\n",
    "\n",
    "# график boxplot\n",
    "bplot1 = ax1.boxplot([array1, array2],\n",
    "                     vert=True,  # создаем вертикальные боксы\n",
    "                     patch_artist=True, # для красоты заполним цветом боксы квантилей\n",
    "                     labels=['Выборка1', 'Выборка2']) # используется для задания значений выборок в случае с boxplot\n",
    "\n",
    "# график доверительных интервалов\n",
    "bplot2 = ax2.errorbar(x=df.index, y=df['Mx'], yerr=df['interval'],\\\n",
    "                      color=\"black\", capsize=3, marker=\"s\", markersize=4, mfc=\"red\", mec=\"black\", fmt ='o')\n",
    "\n",
    "# раскрасим boxplot  \n",
    "colors = ['pink', 'lightgreen']\n",
    "for patch, color in zip(bplot1['boxes'], colors):\n",
    "    patch.set_facecolor(color)\n",
    "    \n",
    "# добавим общие для каждого из графиков данные\n",
    "for ax in [ax1, ax2]:\n",
    "    ax.yaxis.grid(True)\n",
    "    ax.set_title('Температура плавления ДНК двух типов')\n",
    "    ax.set_xlabel('Сравнение двух выборок')\n",
    "    ax.set_ylabel('Температура F')\n",
    "    \n",
    "plt.show()"
   ]
  },
  {
   "cell_type": "markdown",
   "metadata": {},
   "source": [
    "### Задача \n",
    "\n",
    "Рассчитайте доверительный интервал основываясь на знании t - распределения для среднего значения температуры плавления ДНК у первого вида:\n",
    "\n",
    "$$ \\bar{X}=89,9\\quad sd=11,3\\quad n=20 $$"
   ]
  },
  {
   "cell_type": "code",
   "execution_count": 17,
   "metadata": {},
   "outputs": [
    {
     "name": "stdout",
     "output_type": "stream",
     "text": [
      "[84.61; 95.19]\n"
     ]
    }
   ],
   "source": [
    "from scipy import stats\n",
    "from math import sqrt\n",
    "\n",
    "mean = 89.9\n",
    "sd = 11.3\n",
    "n = 20\n",
    "# степень свободы\n",
    "df = n - 1\n",
    "# 95% доверительный интервал\n",
    "p = 0.95\n",
    "alpha = 1-p\n",
    "# стандартная ошибка\n",
    "se = sd/sqrt(n)\n",
    "\n",
    "# ppf - Percent point function\n",
    "# делим на два, так как по умолчанию функция считает для одного конца, а нам надо для двух\n",
    "t_value = stats.t(df).ppf(1-(alpha/2))\n",
    "\n",
    "# доверительный интервал \n",
    "сonfidence_interval = (mean-t_value*se, mean+t_value*se)\n",
    "print('[%.2f; %.2f]' % сonfidence_interval)"
   ]
  },
  {
   "cell_type": "markdown",
   "metadata": {},
   "source": [
    "Первые премии Оскар за лучшую мужскую и женскую роль были вручены в 1929. Данные гистограммы демонстрируют распределение возраста победителей с 1929 по 2014 год (100 мужчин, 100 женщин). Используя t - критерий проверьте, можно ли считать наблюдаемые различия в возрасте между лучшими актрисами и актерами  статистически достоверными.\n",
    "\n",
    "Средний возраст мужчин равен 45, sd = 9.\n",
    "\n",
    "Средний возраст женщин равен 34, sd = 10.\n",
    "\n",
    "<img src=\"img/oscar.png\" width=500>"
   ]
  },
  {
   "cell_type": "code",
   "execution_count": 18,
   "metadata": {},
   "outputs": [
    {
     "name": "stdout",
     "output_type": "stream",
     "text": [
      "p=5.328933875539173e-13\n",
      "Мы можем отклонить нулевую гипотезу\n"
     ]
    }
   ],
   "source": [
    "from scipy.stats import t\n",
    "from numpy import sqrt\n",
    "\n",
    "mean_m, mean_f = 45, 34\n",
    "sd_m, sd_f = 9, 10\n",
    "N = 100\n",
    "\n",
    "se = sqrt((sd_m ** 2)/N + (sd_f ** 2)/N)\n",
    "t_value = (mean_m - mean_f)/se\n",
    "\n",
    "p = t.sf(t_value, N-2)\n",
    "print(f'p={p}')\n",
    "if p >= 0.05:\n",
    "    print('Мы НЕ можем отклонить нулевую гипотезу')\n",
    "else:\n",
    "    print('Мы можем отклонить нулевую гипотезу')"
   ]
  },
  {
   "cell_type": "markdown",
   "metadata": {},
   "source": [
    "## Проверка распределения на нормальность\n",
    "\n",
    "### QQ-plot\n",
    "\n",
    "Эту тему пока сам не понял, так что инфы мало((\n",
    "\n",
    "### 7.Примеры\n"
   ]
  },
  {
   "cell_type": "code",
   "execution_count": 19,
   "metadata": {},
   "outputs": [
    {
     "data": {
      "image/png": "[encoded data removed]",
      "text/plain": [
       "<Figure size 864x432 with 2 Axes>"
      ]
     },
     "metadata": {
      "needs_background": "light"
     },
     "output_type": "display_data"
    }
   ],
   "source": [
    "import numpy as np \n",
    "import scipy.stats as stats\n",
    "import matplotlib.pyplot as plt\n",
    "\n",
    "plt.rcParams['figure.figsize'] = [12, 6]\n",
    "\n",
    "mu, sigma = 10, 4\n",
    "n = 1000 # с ростом числа точек в распределении qq-plot стремится к прямой\n",
    "sequence = np.random.normal(mu, sigma, n)\n",
    "\n",
    "\n",
    "fig, (ax1, ax2) = plt.subplots(1, 2)\n",
    "fig.suptitle('QQ Plot', fontsize=18)\n",
    "\n",
    "# Q-Q Plot graph\n",
    "stats.probplot(sequence, dist=\"norm\", plot=ax1)\n",
    "ax1.set_title(\"Normal Q-Q Plot\")\n",
    "\n",
    "# normal distribution histogram + distribution\n",
    "count, bins, _ = ax2.hist(sequence, 25, density=True)\n",
    "p_x = 1/(sigma * np.sqrt(2 * np.pi)) * np.exp( - (bins - mu)**2 / (2 * sigma**2) )\n",
    "ax2.plot(bins, p_x, color='r')\n",
    " \n",
    "\n",
    "plt.show()"
   ]
  },
  {
   "cell_type": "markdown",
   "metadata": {},
   "source": [
    "## Однофакторный дисперсионный анализ\n",
    "\n",
    "Рассмотренный ранее **t-критерий Стьюдента** (равно как и его непараметрические аналоги) предназначен для сравнения исключительно **двух совокупностей**. В таком случае мы можем применять однофакторный дисперсионный анализ.  Та переменная, которая будет разделять наших испытуемых или наблюдения на группы (номинативная переменная с нескольким градациями) называется **независимой переменной**. А та количественная переменная, по степени выраженности которой мы сравниваем группы, называется **зависимая переменная**. \n",
    "\n",
    "\n",
    "$$ SS_{total} = \\sum_{j=1}^{p}{\\sum_{i=1}^{n_j}{(x_{ij} - \\bar{x})^2}} = SS_{between} + SS_{within} $$\n",
    "$$ SS_{between} = \\sum_{j=1}^{p}{n_j{(\\bar{x}_j - \\bar{x})^2}} $$\n",
    "$$ SS_{within} = \\sum_{j=1}^{p}{\\sum_{i=1}^{n_j}{(x_{ij} - \\bar{x}_j)^2}} $$\n"
   ]
  },
  {
   "cell_type": "code",
   "execution_count": 20,
   "metadata": {},
   "outputs": [
    {
     "name": "stdout",
     "output_type": "stream",
     "text": [
      "Нулевая гипотеза: a=b=c\n",
      "Альтернативная гипотеза: !(a=b=c)\n",
      "Результат:\n",
      "отклоняем нулевую гипотезу\n"
     ]
    },
    {
     "data": {
      "image/png": "[encoded data removed]",
      "text/plain": [
       "<Figure size 864x432 with 1 Axes>"
      ]
     },
     "metadata": {
      "needs_background": "light"
     },
     "output_type": "display_data"
    }
   ],
   "source": [
    "from scipy import stats\n",
    "import pandas as pd\n",
    "\n",
    "# Выборки которые надо сравнить\n",
    "data = pd.DataFrame({\n",
    "           'a': [3, 1, 2],\n",
    "           'b': [5, 3, 4],\n",
    "           'c': [7, 6, 5]\n",
    "          })\n",
    "data.boxplot()\n",
    "print('Нулевая гипотеза:', '='.join(data))\n",
    "print('Альтернативная гипотеза:', f'!({\"=\".join(data)})')\n",
    "# общая средняя\n",
    "grand_mean = data.values.flatten().mean()\n",
    "# отклонение групповых средний от общей средней\n",
    "ssb = sum(data[group].size * (group_mean - grand_mean)**2  for group, group_mean in data.mean().items())\n",
    "# отклонения значений в внутри группы от средней группы\n",
    "ssw = sum(sum((x - group_mean)**2 for x in data[group]) for group, group_mean in data.mean().items())\n",
    "\n",
    "groups = data.shape[1]\n",
    "dfb = groups - 1\n",
    "dfw = data.size - groups\n",
    "# межгрупповой средний квадрат  \n",
    "mssb = ssb/dfb\n",
    "# внутригрупповой средний квадрат\n",
    "mssw = ssw/dfw\n",
    "\n",
    "f_value = mssb/mssw\n",
    "\n",
    "p = stats.f.sf(f_value, dfb, dfw)\n",
    "print('Результат:')\n",
    "if p < 0.05:\n",
    "    print('отклоняем нулевую гипотезу')\n",
    "else:\n",
    "    print('НЕ отклоняем нулевую гипотезу')"
   ]
  },
  {
   "cell_type": "markdown",
   "metadata": {},
   "source": [
    "## Множественные сравнения в ANOVA\n",
    "\n",
    "В отличие от t-критерия, позволяет сравнивать средние значения трёх и более групп. Разработан Р. Фишером для анализа результатов экспериментальных исследований. В литературе также встречается обозначение **ANOVA** (от англ. **AN**alysis **O**f **VA**riance) - дисперсионный анализ\n",
    "\n",
    "## почему мы не можем применить t-критерий для более двух выборок\n",
    "**применяя его попарно к каждой выбрке**\n",
    "\n",
    "Чтобы выяснить это, сделаем эксперемент."
   ]
  },
  {
   "cell_type": "code",
   "execution_count": 90,
   "metadata": {},
   "outputs": [],
   "source": [
    "import numpy as np\n",
    "from numpy import random\n",
    "import matplotlib.pyplot as plt\n",
    "from scipy.stats import t\n",
    "\n",
    "\n",
    "def pair_t(samples, alpha):\n",
    "    '''Парный t-критерий, если все выборки равны, возвращает True'''\n",
    "    n_samples = samples.shape[0]\n",
    "    # https://ru.wikipedia.org/wiki/Сочетание    \n",
    "    n_combinations = n_samples*(n_samples - 1)//2\n",
    "    result = np.zeros(n_combinations, dtype=bool)\n",
    "    k = 0\n",
    "    for i in range(n_samples):\n",
    "        for j in range(i+1, n_samples):\n",
    "            N = samples[i].size\n",
    "            std_err = np.sqrt((samples[i].std()**2)/N + (samples[j].std()**2)/N)\n",
    "            t_value = (samples[i].mean() + samples[j].mean())/std_err\n",
    "            p = t.sf(t_value, N-2)\n",
    "            result[k] = p >= alpha\n",
    "            k += 1\n",
    "    return np.all(result)"
   ]
  },
  {
   "cell_type": "code",
   "execution_count": 91,
   "metadata": {},
   "outputs": [],
   "source": [
    "def pair_t_test(repeat, n_samples, sample_size, ax, alpha=0.05):\n",
    "    '''\n",
    "    функция показывает, сколько у нас будет ложных результатов, при парном сравнение множества выборок\n",
    "    с помощью t-критерия\n",
    "    \n",
    "    repeat, n_samples, sample_size = количество повторов, количество выборок в каждом повторе, размер выборки\n",
    "    \n",
    "    ax - для рисования\n",
    "    alpha = (1 - (p-уровень значимости))\n",
    "    '''\n",
    "    result = np.zeros(repeat, dtype=bool)\n",
    "    for i in range(repeat):\n",
    "        samples = random.randn(n_samples, sample_size)\n",
    "        result[i] = pair_t(samples, alpha)\n",
    "    \n",
    "    unique, counts = np.unique(result, return_counts=True)\n",
    "    percentage = counts/result.size\n",
    "    ax.pie(percentage, normalize=False, labels=unique, autopct='%.0f%%')"
   ]
  },
  {
   "cell_type": "code",
   "execution_count": 81,
   "metadata": {},
   "outputs": [
    {
     "data": {
      "image/png": "[encoded data removed]",
      "text/plain": [
       "<Figure size 1440x288 with 4 Axes>"
      ]
     },
     "metadata": {},
     "output_type": "display_data"
    }
   ],
   "source": [
    "fig, axs = plt.subplots(ncols=4, figsize=(20, 4))\n",
    "n_samples = [2, 4, 8, 16]\n",
    "fig.suptitle('Процент ошибок при попарном сравнение выборок t-критерием')\n",
    "\n",
    "for n, ax in zip(n_samples, axs):\n",
    "    pair_t_test(1000, n, 100, ax)\n",
    "    ax.set_title(f'{n} samples')\n",
    "    "
   ]
  },
  {
   "cell_type": "markdown",
   "metadata": {},
   "source": [
    "Как мы и ожидаем, степень ошибки равна **5%**, при сравнение **двух выборок** из одной ГС с помощью t-критерия с p-уровнем значимости **95%**. Если мы возмём **4** выборки, и сравним их попарно, то ошибка возрастёт в **4** раза до **20%**. При **8** выборок, наша ошибка возрасла почти в **9** раз до **48%**. **16** выборок дают увеличение ошибки до **81%** (почти в 16 раз), что совершенно неприемлемо."
   ]
  },
  {
   "cell_type": "code",
   "execution_count": 92,
   "metadata": {},
   "outputs": [
    {
     "data": {
      "image/png": "[encoded data removed]",
      "text/plain": [
       "<Figure size 1440x288 with 4 Axes>"
      ]
     },
     "metadata": {},
     "output_type": "display_data"
    }
   ],
   "source": [
    "fig, axs = plt.subplots(ncols=4, figsize=(20, 4))\n",
    "n_samples = [2, 4, 8, 16]\n",
    "fig.suptitle('Процент ошибок при попарном сравнение выборок t-критерием с корректировкой уровня значимости')\n",
    "\n",
    "for n, ax in zip(n_samples, axs):\n",
    "    alpha = 0.05/((n*(n-1))/2)\n",
    "    pair_t_test(1000, n, 100, ax, alpha)\n",
    "    ax.set_title(f'{n} samples')"
   ]
  },
  {
   "cell_type": "markdown",
   "metadata": {},
   "source": [
    "Однако в данном случае эта будет арх-консервативная корректировавка, которая имеет меньше вероятность найти реальные значения. По сути мы **уменьшаем шанс получить ошибку I рода, но увеличиваем шанс на ошибку II рода**.\n",
    "\n",
    "### Ошибки первого и второго рода\n",
    "\n",
    "<img src='img/error_types.jpeg'/>"
   ]
  },
  {
   "cell_type": "markdown",
   "metadata": {},
   "source": [
    "## Многофакторный ANOVA\n"
   ]
  },
  {
   "cell_type": "markdown",
   "metadata": {},
   "source": [
    "<hr>"
   ]
  },
  {
   "cell_type": "markdown",
   "metadata": {},
   "source": [
    "# Часть 3"
   ]
  },
  {
   "cell_type": "markdown",
   "metadata": {},
   "source": [
    "## Корреляция\n",
    "\n",
    "### Ковариация \n",
    "\n",
    "(ко - совместная, вариация - изменчивость). Мера **линейной** зависимости двух случайных величин.\n",
    "\n",
    "Если ковариация положительна, то с ростом значений одной случайной величины, значения второй имеют тенденцию возрастать, а если знак отрицательный — то убывать.\n",
    "\n",
    "$$ cov(X, Y) = \\frac{\\sum{(x_i - \\bar{x})(y_i - \\bar{x})}}{N - 1} $$\n",
    "где N - количество случайных величин, а единица - количество степеней свободы.\n",
    "\n",
    "Однако только по **абсолютному** значению ковариации **нельзя судить** о том, **насколько сильно величины взаимосвязаны**, так как масштаб ковариации зависит от их дисперсий. Значение ковариации можно нормировать, поделив её на произведение среднеквадратических отклонений (квадратных корней из дисперсий) случайных величин. Полученная величина называется коэффициентом корреляции Пирсона, который всегда находится в интервале от −1 до 1:"
   ]
  },
  {
   "cell_type": "markdown",
   "metadata": {},
   "source": [
    "\n",
    "$$ r(x, y) = \\frac{cov(x, y)}{\\sigma_x\\sigma_y}$$"
   ]
  },
  {
   "cell_type": "markdown",
   "metadata": {},
   "source": [
    "### Подробнее про формулу корреляции\n",
    "\n",
    "Давайте остановимся на формуле коэффициента корреляции, которую мы получили:\n",
    "$$ r(x, y) = \\frac{cov(x, y)}{\\sigma_x\\sigma_y}$$\n",
    "запишем формулу чуть подробнее и выполним возможные преобразования:\n",
    "\n",
    "$$ r(x, y) = \\frac{\\sum{(x_i - \\bar{x})(y_i - \\bar{x})}}{(N - 1)\\sqrt{\\sum{\\frac{(x_i - \\bar{x})^2}{N-1}}}\\sqrt{\\sum{\\frac{(x_i - \\bar{x})^2}{N-1}}}} $$\n",
    "\n",
    "теперь вынесем 1/ (N - 1) из под корней \n",
    "\n",
    "$$ r(x, y) = \\frac{\\sum{(x_i - \\bar{x})(y_i - \\bar{x})}}{(N - 1)\\frac{1}{(N-1)}\\sqrt{\\sum{(x_i - \\bar{x})^2}}\\sqrt{\\sum{(x_i - \\bar{x})^2}}} $$\n",
    "\n",
    "и сократим (N - 1)\n",
    "\n",
    "$$ r(x, y) = \\frac{\\sum{(x_i - \\bar{x})(y_i - \\bar{x})}}{\\sqrt{\\sum{(x_i - \\bar{x})^2}}\\sqrt{\\sum{(x_i - \\bar{x})^2}}} $$\n",
    "\n",
    "таким образом, мы сократили N - 1 в знаменателе и получили финальную формулу для коэффициента корреляции, которую вы часто сможете встретить в учебниках:\n",
    "\n",
    "$$ r(x, y) = \\frac{\\sum{(x_i - \\bar{x})(y_i - \\bar{x})}}{\\sqrt{\\sum{(x_i - \\bar{x})^2}\\sum{(x_i - \\bar{x})^2}}} $$"
   ]
  },
  {
   "cell_type": "markdown",
   "metadata": {},
   "source": [
    "### Примеры 3.1"
   ]
  },
  {
   "cell_type": "code",
   "execution_count": 21,
   "metadata": {},
   "outputs": [],
   "source": [
    "'''Демонстрация работы ковариации и корреляции'''\n",
    "import numpy as np\n",
    "import random as r\n",
    "\n",
    "def cov(x, y):\n",
    "    assert x.size == y.size\n",
    "    return ((x - x.mean()) * (y - y.mean())).sum()/(x.size - 1)\n",
    "\n",
    "def cor(x, y):\n",
    "    return cov(x, y)/(np.std(x, ddof=1)*np.std(y, ddof=1))\n",
    "\n",
    "# функция имитирущая случаные факторы\n",
    "# р - настолько существенным будет случайный фактор\n",
    "def randomize(arr, p):\n",
    "    alpha = np.max(arr) - np.min(arr)\n",
    "    res = np.zeros(arr.shape)\n",
    "    for i, v in enumerate(arr):\n",
    "        sign = 1 if r.choice([True, False]) else -1\n",
    "        res[i] = v + sign*alpha*r.random()*p\n",
    "    return res"
   ]
  },
  {
   "cell_type": "code",
   "execution_count": 22,
   "metadata": {},
   "outputs": [],
   "source": [
    "x = np.array(range(30))\n",
    "y = randomize(x, 0.1)\n",
    "y1 = randomize(x, 0.5)\n",
    "y2 = randomize(x, 1)"
   ]
  },
  {
   "cell_type": "code",
   "execution_count": 23,
   "metadata": {},
   "outputs": [
    {
     "data": {
      "image/png": "[encoded data removed]",
      "text/plain": [
       "<Figure size 1152x216 with 3 Axes>"
      ]
     },
     "metadata": {
      "needs_background": "light"
     },
     "output_type": "display_data"
    }
   ],
   "source": [
    "import matplotlib.pyplot as plt\n",
    "\n",
    "fig, (ax1, ax2, ax3) = plt.subplots(1, 3, figsize=(16, 3))\n",
    "ax1.scatter(x, y)\n",
    "ax2.scatter(x, y1)\n",
    "ax3.scatter(x, y2)\n",
    "ax1.set_title('высокая корреляция')\n",
    "ax2.set_title('средняя корреляция')\n",
    "ax3.set_title('низкая корреляция')\n",
    "plt.show()"
   ]
  },
  {
   "cell_type": "code",
   "execution_count": 24,
   "metadata": {},
   "outputs": [
    {
     "name": "stdout",
     "output_type": "stream",
     "text": [
      "\n",
      "cov1: 80.45\n",
      "cov2: 92.49\n",
      "cov3: 61.64\n",
      "\n",
      "cor1: 0.99\n",
      "cor2: 0.81\n",
      "cor3: 0.35\n",
      "\n"
     ]
    }
   ],
   "source": [
    "print(f'''\n",
    "cov1: {cov(x, y):.2f}\n",
    "cov2: {cov(x, y1):.2f}\n",
    "cov3: {cov(x, y2):.2f}\n",
    "\n",
    "cor1: {cor(x, y):.2f}\n",
    "cor2: {cor(x, y1):.2f}\n",
    "cor3: {cor(x, y2):.2f}\n",
    "''')"
   ]
  },
  {
   "cell_type": "markdown",
   "metadata": {},
   "source": [
    "## Регрессия с одной независимой переменной\n",
    "\n",
    "В этой и следующих главах мы научимся работать  с **одномерным регрессионным анализом**, который позволяет проверять гипотезы о взаимосвязи одной  количественной зависимой переменной и нескольких независимых.\n",
    "\n",
    "Сначала мы познакомимся с самым простым вариантом -  простой **линейной регрессией**, при помощи которой можно исследовать взаимосвязь двух переменных. Затем перейдем к множественной регрессии с несколькими независимыми переменными.\n",
    "\n",
    "Линейная регрессия (англ. Linear regression) — используемая в статистике регрессионная модель зависимости одной (объясняемой, зависимой) переменной $y$ от другой или нескольких других переменных (факторов, регрессоров, независимых переменных) $x$ с **линейной функцией зависимости**.\n",
    "\n",
    "В общем виде функция линейной регрессии выглядит как:\n",
    "\n",
    "$$ y = b_0 + b_1x $$\n",
    "$b_0$ - intercept значение пересечения линии с осью Y \n",
    "\n",
    "$b_1$ - slope задаёт наклон линии регрессии\n",
    "\n",
    "строят регрессионную прямую методом наименьших квадратов (МНК)\n",
    "\n",
    "МНК - это способ нахождения оптимальных параметров линейной регресссии ($b_0$,  $b_1$), таких, что сумма квадратов ошибок (остатков) была минимальная.\n",
    "\n",
    "Расчёт параметров идёт по таким формулам:\n",
    "\n",
    "$$ b_1 = \\frac{sd_y}{sd_x}r_{xy} $$\n",
    "$$ b_0 = \\bar{Y} - b_1\\bar{X} $$"
   ]
  },
  {
   "cell_type": "code",
   "execution_count": 25,
   "metadata": {},
   "outputs": [
    {
     "data": {
      "image/png": "[encoded data removed]",
      "text/plain": [
       "<Figure size 864x432 with 1 Axes>"
      ]
     },
     "metadata": {
      "needs_background": "light"
     },
     "output_type": "display_data"
    }
   ],
   "source": [
    "'''Демонстрация МНК'''\n",
    "b1 = y1.std()/x.std()*cor(x, y1)\n",
    "b0 = y1.mean() - b1*x.mean()\n",
    "f = lambda x: b0 + b1*x\n",
    "y_pred = f(x)\n",
    "plt.scatter(x, y1)\n",
    "plt.plot(x, y_pred, color='r')\n",
    "plt.show()"
   ]
  },
  {
   "cell_type": "markdown",
   "metadata": {},
   "source": [
    "## Гипотеза о значимости взаимосвязи и коэффициент детерминации\n",
    "\n"
   ]
  },
  {
   "cell_type": "markdown",
   "metadata": {},
   "source": [
    "## Условия применения линейной регрессии с одним предиктором"
   ]
  },
  {
   "cell_type": "markdown",
   "metadata": {},
   "source": [
    "## Применение регрессионного анализа и интерпретация результатов"
   ]
  },
  {
   "cell_type": "code",
   "execution_count": 106,
   "metadata": {},
   "outputs": [
    {
     "data": {
      "text/html": [
       "<div>\n",
       "<style scoped>\n",
       "    .dataframe tbody tr th:only-of-type {\n",
       "        vertical-align: middle;\n",
       "    }\n",
       "\n",
       "    .dataframe tbody tr th {\n",
       "        vertical-align: top;\n",
       "    }\n",
       "\n",
       "    .dataframe thead th {\n",
       "        text-align: right;\n",
       "    }\n",
       "</style>\n",
       "<table border=\"1\" class=\"dataframe\">\n",
       "  <thead>\n",
       "    <tr style=\"text-align: right;\">\n",
       "      <th></th>\n",
       "      <th>state</th>\n",
       "      <th>metro_res</th>\n",
       "      <th>white</th>\n",
       "      <th>hs_grad</th>\n",
       "      <th>poverty</th>\n",
       "      <th>female_house</th>\n",
       "    </tr>\n",
       "  </thead>\n",
       "  <tbody>\n",
       "    <tr>\n",
       "      <th>0</th>\n",
       "      <td>Alabama</td>\n",
       "      <td>55.4</td>\n",
       "      <td>71.3</td>\n",
       "      <td>79.9</td>\n",
       "      <td>14.6</td>\n",
       "      <td>14.2</td>\n",
       "    </tr>\n",
       "    <tr>\n",
       "      <th>1</th>\n",
       "      <td>Alaska</td>\n",
       "      <td>65.6</td>\n",
       "      <td>70.8</td>\n",
       "      <td>90.6</td>\n",
       "      <td>8.3</td>\n",
       "      <td>10.8</td>\n",
       "    </tr>\n",
       "    <tr>\n",
       "      <th>2</th>\n",
       "      <td>Arizona</td>\n",
       "      <td>88.2</td>\n",
       "      <td>87.7</td>\n",
       "      <td>83.8</td>\n",
       "      <td>13.3</td>\n",
       "      <td>11.1</td>\n",
       "    </tr>\n",
       "    <tr>\n",
       "      <th>3</th>\n",
       "      <td>Arkansas</td>\n",
       "      <td>52.5</td>\n",
       "      <td>81.0</td>\n",
       "      <td>80.9</td>\n",
       "      <td>18.0</td>\n",
       "      <td>12.1</td>\n",
       "    </tr>\n",
       "    <tr>\n",
       "      <th>4</th>\n",
       "      <td>California</td>\n",
       "      <td>94.4</td>\n",
       "      <td>77.5</td>\n",
       "      <td>81.1</td>\n",
       "      <td>12.8</td>\n",
       "      <td>12.6</td>\n",
       "    </tr>\n",
       "  </tbody>\n",
       "</table>\n",
       "</div>"
      ],
      "text/plain": [
       "        state  metro_res  white  hs_grad  poverty  female_house\n",
       "0     Alabama       55.4   71.3     79.9     14.6          14.2\n",
       "1      Alaska       65.6   70.8     90.6      8.3          10.8\n",
       "2     Arizona       88.2   87.7     83.8     13.3          11.1\n",
       "3    Arkansas       52.5   81.0     80.9     18.0          12.1\n",
       "4  California       94.4   77.5     81.1     12.8          12.6"
      ]
     },
     "execution_count": 106,
     "metadata": {},
     "output_type": "execute_result"
    }
   ],
   "source": [
    "''''''\n",
    "import pandas as pd\n",
    "import seaborn as sns\n",
    "import matplotlib.pyplot as plt\n",
    "import numpy as np\n",
    "\n",
    "df = pd.read_csv('data/states.csv')\n",
    "df.head()"
   ]
  },
  {
   "cell_type": "markdown",
   "metadata": {},
   "source": [
    "Есть данные по штатам с различными значениями:\n",
    " - **metro_res** - процент населения живущие в столице\n",
    " - **white** - процент белого населения\n",
    " - **hs_grad** - процент людей со образованием\n",
    " - **poverty** - уровень бедности\n",
    " - **female_house** - процент домов, где есть домохозяйки \n",
    " \n",
    "Исследуем связь уровня образования и бедности, где бедность будет ЗП, а уровень образования НП.\n",
    "\n",
    "Первое, что нам необходимо сделать, это построить линейную модель, которая наилучшим образом будет описывать наши данные.\n",
    "\n",
    "$$ \\hat{y} = b_0 + b_1x $$\n",
    "\n",
    "Далле, построив нашу модель, нам надо узнать, насколько хорошо наша объясняет ЗП, для этого найдём коэфицент детерминации $R^2$\n",
    "\n",
    "Проверим нулевую гипотезу:\n",
    "$$ b_1 = 0 : H0$$\n",
    "\n",
    "Третья наша задача, это задача предсказания, по данным НП мы хотим предсказать ЗП."
   ]
  },
  {
   "cell_type": "code",
   "execution_count": 29,
   "metadata": {},
   "outputs": [
    {
     "data": {
      "text/plain": [
       "<seaborn.axisgrid.JointGrid at 0x217b4174ca0>"
      ]
     },
     "execution_count": 29,
     "metadata": {},
     "output_type": "execute_result"
    },
    {
     "data": {
      "image/png": "[encoded data removed]",
      "text/plain": [
       "<Figure size 432x432 with 3 Axes>"
      ]
     },
     "metadata": {
      "needs_background": "light"
     },
     "output_type": "display_data"
    }
   ],
   "source": [
    "sns.jointplot(x='hs_grad', y='poverty', data=df, kind='reg', color='m')"
   ]
  },
  {
   "cell_type": "code",
   "execution_count": 37,
   "metadata": {},
   "outputs": [
    {
     "data": {
      "text/html": [
       "<div>\n",
       "<style scoped>\n",
       "    .dataframe tbody tr th:only-of-type {\n",
       "        vertical-align: middle;\n",
       "    }\n",
       "\n",
       "    .dataframe tbody tr th {\n",
       "        vertical-align: top;\n",
       "    }\n",
       "\n",
       "    .dataframe thead th {\n",
       "        text-align: right;\n",
       "    }\n",
       "</style>\n",
       "<table border=\"1\" class=\"dataframe\">\n",
       "  <thead>\n",
       "    <tr style=\"text-align: right;\">\n",
       "      <th></th>\n",
       "      <th>count</th>\n",
       "      <th>mean</th>\n",
       "      <th>std</th>\n",
       "      <th>min</th>\n",
       "      <th>25%</th>\n",
       "      <th>50%</th>\n",
       "      <th>75%</th>\n",
       "      <th>max</th>\n",
       "    </tr>\n",
       "  </thead>\n",
       "  <tbody>\n",
       "    <tr>\n",
       "      <th>metro_res</th>\n",
       "      <td>51.0</td>\n",
       "      <td>72.249020</td>\n",
       "      <td>15.275894</td>\n",
       "      <td>38.2</td>\n",
       "      <td>60.80</td>\n",
       "      <td>71.6</td>\n",
       "      <td>86.80</td>\n",
       "      <td>100.0</td>\n",
       "    </tr>\n",
       "    <tr>\n",
       "      <th>white</th>\n",
       "      <td>51.0</td>\n",
       "      <td>81.719608</td>\n",
       "      <td>13.897223</td>\n",
       "      <td>25.9</td>\n",
       "      <td>76.80</td>\n",
       "      <td>85.4</td>\n",
       "      <td>90.25</td>\n",
       "      <td>97.1</td>\n",
       "    </tr>\n",
       "    <tr>\n",
       "      <th>hs_grad</th>\n",
       "      <td>51.0</td>\n",
       "      <td>86.011765</td>\n",
       "      <td>3.725998</td>\n",
       "      <td>77.2</td>\n",
       "      <td>83.30</td>\n",
       "      <td>86.9</td>\n",
       "      <td>88.70</td>\n",
       "      <td>92.1</td>\n",
       "    </tr>\n",
       "    <tr>\n",
       "      <th>poverty</th>\n",
       "      <td>51.0</td>\n",
       "      <td>11.349020</td>\n",
       "      <td>3.099185</td>\n",
       "      <td>5.6</td>\n",
       "      <td>9.25</td>\n",
       "      <td>10.6</td>\n",
       "      <td>13.40</td>\n",
       "      <td>18.0</td>\n",
       "    </tr>\n",
       "    <tr>\n",
       "      <th>female_house</th>\n",
       "      <td>51.0</td>\n",
       "      <td>11.633333</td>\n",
       "      <td>2.356155</td>\n",
       "      <td>7.8</td>\n",
       "      <td>9.55</td>\n",
       "      <td>11.8</td>\n",
       "      <td>12.65</td>\n",
       "      <td>18.9</td>\n",
       "    </tr>\n",
       "  </tbody>\n",
       "</table>\n",
       "</div>"
      ],
      "text/plain": [
       "              count       mean        std   min    25%   50%    75%    max\n",
       "metro_res      51.0  72.249020  15.275894  38.2  60.80  71.6  86.80  100.0\n",
       "white          51.0  81.719608  13.897223  25.9  76.80  85.4  90.25   97.1\n",
       "hs_grad        51.0  86.011765   3.725998  77.2  83.30  86.9  88.70   92.1\n",
       "poverty        51.0  11.349020   3.099185   5.6   9.25  10.6  13.40   18.0\n",
       "female_house   51.0  11.633333   2.356155   7.8   9.55  11.8  12.65   18.9"
      ]
     },
     "execution_count": 37,
     "metadata": {},
     "output_type": "execute_result"
    }
   ],
   "source": [
    "df_descr = df.describe().transpose()\n",
    "df_descr"
   ]
  },
  {
   "cell_type": "code",
   "execution_count": 51,
   "metadata": {},
   "outputs": [
    {
     "data": {
      "image/png": "[encoded data removed]",
      "text/plain": [
       "<Figure size 864x432 with 1 Axes>"
      ]
     },
     "metadata": {
      "needs_background": "light"
     },
     "output_type": "display_data"
    }
   ],
   "source": [
    "'''Построим модель'''\n",
    "from scipy.stats import linregress\n",
    "\n",
    "slope, intercept, r, p, std_err =  linregress(df['hs_grad'], df['poverty'])\n",
    "\n",
    "x = np.linspace(75, 100)\n",
    "\n",
    "reg = lambda x: intercept + slope*x\n",
    "plt.scatter(x='hs_grad', y='poverty', data=df, label='data')\n",
    "plt.xlabel('hs_grad %')\n",
    "plt.ylabel('poverty %')\n",
    "plt.title('Linear Regression')\n",
    "plt.plot(x, reg(x), color='r', label='fitted line')\n",
    "plt.legend()\n",
    "plt.show()"
   ]
  },
  {
   "cell_type": "code",
   "execution_count": 49,
   "metadata": {},
   "outputs": [
    {
     "name": "stdout",
     "output_type": "stream",
     "text": [
      "\n",
      "slope = -0.62\n",
      "intercept = 64.78\n",
      "r = -0.75\n",
      "r squared = 0.56\n",
      "p = 0.00000\n",
      "std_err = 0.079\n",
      "\n"
     ]
    }
   ],
   "source": [
    "print(f'''\n",
    "slope = {slope:.2f}\n",
    "intercept = {intercept:.2f}\n",
    "r = {r:.2f}\n",
    "r squared = {(r ** 2):.2f}\n",
    "p = {p:.5f}\n",
    "std_err = {std_err:.3f}\n",
    "''')"
   ]
  },
  {
   "cell_type": "markdown",
   "metadata": {},
   "source": [
    "## Задача предсказания значений зависимой переменной"
   ]
  },
  {
   "cell_type": "markdown",
   "metadata": {},
   "source": [
    "## Регрессионный анализ с несколькими независимыми переменными\n",
    "\n",
    "### Множественная регрессия (Multiple Regression)\n",
    "\n",
    "Множественная регрессия позволяет исследовать влияние сразу нескольких независимых переменных на одну зависиммую.\n",
    "\n",
    "#### Требования к данным\n",
    "\n",
    "- линейная зависимость переменных\n",
    "- нормальное распредление остатков\n",
    "- гомоскедастичность данных\n",
    "- проверка на мультиколлиарность\n",
    "- нормальное распределение переменных (желательно)"
   ]
  },
  {
   "cell_type": "markdown",
   "metadata": {},
   "source": [
    "### Пример расчёта и визуализации множественной регрессии"
   ]
  },
  {
   "cell_type": "code",
   "execution_count": 135,
   "metadata": {},
   "outputs": [
    {
     "data": {
      "application/vnd.plotly.v1+json": {
       "config": {
        "plotlyServerURL": "https://plot.ly"
       },
       "data": [
        {
         "hovertemplate": "poverty_pred=False<br>white=%{x}<br>hs_grad=%{y}<br>poverty=%{z}<extra></extra>",
         "legendgroup": "False",
         "marker": {
          "color": "red",
          "size": 3,
          "symbol": "circle"
         },
         "mode": "markers",
         "name": "False",
         "scene": "scene",
         "showlegend": true,
         "type": "scatter3d",
         "x": [
          71.3,
          70.8,
          77.5,
          90.2,
          85.4,
          76.3,
          80.6,
          67.5,
          25.9,
          79.5,
          88.9,
          94.9,
          89.3,
          65.6,
          87.2,
          81.5,
          90.2,
          85.3,
          84.1,
          96.3,
          77.3,
          74.1,
          85.4,
          86.4,
          89.2,
          67.7,
          80.8,
          83.6,
          73.9,
          90.1
         ],
         "y": [
          79.9,
          90.6,
          81.1,
          88.7,
          87.5,
          88.7,
          84.7,
          85.1,
          88.5,
          85.9,
          86.4,
          89.7,
          88.6,
          87.6,
          87.1,
          87.6,
          91.6,
          88.3,
          85.6,
          92.1,
          86.2,
          81.4,
          87.2,
          86,
          81,
          80.8,
          81,
          77.2,
          87.8,
          88.6
         ],
         "z": [
          14.6,
          8.3,
          12.8,
          9.4,
          7.8,
          8.1,
          12.1,
          12.1,
          10.6,
          11.2,
          8.7,
          8.3,
          9.4,
          7.3,
          9.6,
          10.3,
          6.5,
          9.6,
          8.3,
          5.6,
          7.8,
          13.1,
          10.1,
          9.2,
          10.3,
          13.5,
          14.2,
          15.3,
          8.7,
          8.6
         ]
        },
        {
         "hovertemplate": "poverty_pred=True<br>white=%{x}<br>hs_grad=%{y}<br>poverty=%{z}<extra></extra>",
         "legendgroup": "True",
         "marker": {
          "color": "green",
          "size": 3,
          "symbol": "circle"
         },
         "mode": "markers",
         "name": "True",
         "scene": "scene",
         "showlegend": true,
         "type": "scatter3d",
         "x": [
          87.7,
          81,
          36.2,
          95.5,
          90.3,
          64.2,
          97.1,
          61.2,
          90.9,
          92.1,
          84.9,
          73.6,
          92.5,
          78.4,
          90.8,
          88.8,
          93.6,
          96.9,
          85.5,
          95,
          94.7
         ],
         "y": [
          83.8,
          80.9,
          86,
          88.2,
          82.8,
          79.8,
          86.6,
          81.2,
          90.1,
          90.8,
          81.7,
          84.2,
          89.7,
          85.7,
          86.9,
          88.7,
          89.4,
          88.9,
          89.1,
          78.7,
          90.9
         ],
         "z": [
          13.3,
          18,
          16.8,
          11.8,
          13.1,
          17,
          11.3,
          17.6,
          13.7,
          9.5,
          17.8,
          14,
          11.9,
          14.7,
          11.2,
          10.2,
          9.3,
          9.9,
          10.8,
          16,
          9.5
         ]
        },
        {
         "name": "prediction",
         "opacity": 0.8,
         "type": "surface",
         "x": [
          23.9,
          24.9,
          25.9,
          26.9,
          27.9,
          28.9,
          29.9,
          30.9,
          31.9,
          32.9,
          33.9,
          34.9,
          35.9,
          36.9,
          37.9,
          38.9,
          39.9,
          40.9,
          41.9,
          42.9,
          43.9,
          44.9,
          45.9,
          46.9,
          47.9,
          48.9,
          49.9,
          50.9,
          51.9,
          52.9,
          53.9,
          54.9,
          55.9,
          56.9,
          57.9,
          58.9,
          59.9,
          60.9,
          61.9,
          62.9,
          63.9,
          64.9,
          65.9,
          66.9,
          67.9,
          68.9,
          69.9,
          70.9,
          71.9,
          72.9,
          73.9,
          74.9,
          75.9,
          76.9,
          77.9,
          78.9,
          79.9,
          80.9,
          81.9,
          82.9,
          83.9,
          84.9,
          85.9,
          86.9,
          87.9,
          88.9,
          89.9,
          90.9,
          91.9,
          92.9,
          93.9,
          94.9,
          95.9,
          96.9,
          97.9,
          98.9
         ],
         "y": [
          75.2,
          76.2,
          77.2,
          78.2,
          79.2,
          80.2,
          81.2,
          82.2,
          83.2,
          84.2,
          85.2,
          86.2,
          87.2,
          88.2,
          89.2,
          90.2,
          91.2,
          92.2,
          93.2
         ],
         "z": [
          [
           19.554764392496985,
           19.52387626122708,
           19.49298812995717,
           19.462099998687258,
           19.431211867417353,
           19.400323736147442,
           19.36943560487753,
           19.338547473607626,
           19.307659342337715,
           19.276771211067803,
           19.245883079797892,
           19.214994948527988,
           19.184106817258076,
           19.153218685988165,
           19.12233055471826,
           19.09144242344835,
           19.060554292178438,
           19.029666160908533,
           18.998778029638622,
           18.96788989836871,
           18.937001767098806,
           18.906113635828895,
           18.875225504558983,
           18.84433737328908,
           18.813449242019168,
           18.782561110749256,
           18.751672979479352,
           18.72078484820944,
           18.68989671693953,
           18.659008585669625,
           18.628120454399713,
           18.597232323129802,
           18.566344191859898,
           18.535456060589986,
           18.504567929320075,
           18.473679798050163,
           18.44279166678026,
           18.411903535510348,
           18.381015404240436,
           18.350127272970532,
           18.31923914170062,
           18.28835101043071,
           18.257462879160805,
           18.226574747890893,
           18.195686616620982,
           18.164798485351078,
           18.133910354081166,
           18.103022222811255,
           18.07213409154135,
           18.04124596027144,
           18.010357829001528,
           17.979469697731616,
           17.948581566461712,
           17.9176934351918,
           17.88680530392189,
           17.855917172651985,
           17.825029041382074,
           17.794140910112162,
           17.763252778842258,
           17.732364647572346,
           17.701476516302435,
           17.67058838503253,
           17.63970025376262,
           17.608812122492708,
           17.577923991222804,
           17.547035859952892,
           17.51614772868298,
           17.485259597413076,
           17.454371466143165,
           17.423483334873254,
           17.39259520360335,
           17.361707072333438,
           17.330818941063526,
           17.299930809793622,
           17.26904267852371,
           17.2381545472538
          ],
          [
           18.960984808658324,
           18.93009667738842,
           18.89920854611851,
           18.868320414848597,
           18.837432283578693,
           18.80654415230878,
           18.77565602103887,
           18.744767889768966,
           18.713879758499054,
           18.682991627229143,
           18.65210349595924,
           18.621215364689327,
           18.590327233419416,
           18.559439102149504,
           18.5285509708796,
           18.49766283960969,
           18.466774708339777,
           18.435886577069873,
           18.40499844579996,
           18.37411031453005,
           18.343222183260146,
           18.312334051990234,
           18.281445920720323,
           18.25055778945042,
           18.219669658180507,
           18.188781526910596,
           18.15789339564069,
           18.12700526437078,
           18.09611713310087,
           18.065229001830964,
           18.034340870561053,
           18.00345273929114,
           17.97256460802123,
           17.941676476751326,
           17.910788345481414,
           17.879900214211503,
           17.8490120829416,
           17.818123951671687,
           17.787235820401776,
           17.75634768913187,
           17.72545955786196,
           17.69457142659205,
           17.663683295322144,
           17.632795164052233,
           17.60190703278232,
           17.571018901512417,
           17.540130770242506,
           17.509242638972594,
           17.47835450770269,
           17.44746637643278,
           17.416578245162867,
           17.385690113892963,
           17.35480198262305,
           17.32391385135314,
           17.293025720083236,
           17.262137588813324,
           17.231249457543413,
           17.2003613262735,
           17.169473195003597,
           17.138585063733686,
           17.107696932463774,
           17.07680880119387,
           17.04592066992396,
           17.015032538654047,
           16.984144407384143,
           16.95325627611423,
           16.92236814484432,
           16.891480013574416,
           16.860591882304504,
           16.829703751034593,
           16.79881561976469,
           16.767927488494777,
           16.737039357224866,
           16.706151225954954,
           16.67526309468505,
           16.64437496341514
          ],
          [
           18.367205224819664,
           18.33631709354976,
           18.305428962279848,
           18.274540831009936,
           18.243652699740032,
           18.21276456847012,
           18.18187643720021,
           18.150988305930305,
           18.120100174660394,
           18.089212043390482,
           18.05832391212057,
           18.027435780850666,
           17.996547649580755,
           17.965659518310844,
           17.93477138704094,
           17.903883255771028,
           17.872995124501116,
           17.842106993231212,
           17.8112188619613,
           17.78033073069139,
           17.749442599421485,
           17.718554468151574,
           17.687666336881662,
           17.656778205611758,
           17.625890074341847,
           17.595001943071935,
           17.56411381180203,
           17.53322568053212,
           17.502337549262208,
           17.471449417992304,
           17.440561286722392,
           17.40967315545248,
           17.378785024182577,
           17.347896892912665,
           17.317008761642754,
           17.286120630372842,
           17.255232499102938,
           17.224344367833027,
           17.193456236563115,
           17.16256810529321,
           17.1316799740233,
           17.100791842753388,
           17.069903711483484,
           17.039015580213572,
           17.00812744894366,
           16.977239317673757,
           16.946351186403845,
           16.915463055133934,
           16.88457492386403,
           16.853686792594118,
           16.822798661324207,
           16.791910530054295,
           16.76102239878439,
           16.73013426751448,
           16.699246136244568,
           16.668358004974664,
           16.637469873704752,
           16.60658174243484,
           16.575693611164937,
           16.544805479895025,
           16.513917348625114,
           16.48302921735521,
           16.452141086085298,
           16.421252954815387,
           16.390364823545482,
           16.35947669227557,
           16.32858856100566,
           16.297700429735755,
           16.266812298465844,
           16.235924167195932,
           16.205036035926028,
           16.174147904656117,
           16.143259773386205,
           16.1123716421163,
           16.08148351084639,
           16.050595379576478
          ],
          [
           17.773425640981003,
           17.7425375097111,
           17.711649378441187,
           17.680761247171276,
           17.64987311590137,
           17.61898498463146,
           17.58809685336155,
           17.557208722091644,
           17.526320590821733,
           17.49543245955182,
           17.464544328281917,
           17.433656197012006,
           17.402768065742094,
           17.371879934472183,
           17.34099180320228,
           17.310103671932367,
           17.279215540662456,
           17.24832740939255,
           17.21743927812264,
           17.18655114685273,
           17.155663015582824,
           17.124774884312913,
           17.093886753043,
           17.062998621773097,
           17.032110490503186,
           17.001222359233275,
           16.97033422796337,
           16.93944609669346,
           16.908557965423547,
           16.877669834153643,
           16.84678170288373,
           16.81589357161382,
           16.78500544034391,
           16.754117309074005,
           16.723229177804093,
           16.69234104653418,
           16.661452915264277,
           16.630564783994366,
           16.599676652724455,
           16.56878852145455,
           16.53790039018464,
           16.507012258914727,
           16.476124127644823,
           16.44523599637491,
           16.414347865105,
           16.383459733835096,
           16.352571602565185,
           16.321683471295273,
           16.29079534002537,
           16.259907208755457,
           16.229019077485546,
           16.19813094621564,
           16.16724281494573,
           16.13635468367582,
           16.105466552405915,
           16.074578421136003,
           16.043690289866092,
           16.01280215859618,
           15.981914027326276,
           15.951025896056365,
           15.920137764786453,
           15.889249633516549,
           15.858361502246638,
           15.827473370976726,
           15.796585239706822,
           15.76569710843691,
           15.734808977166999,
           15.703920845897095,
           15.673032714627183,
           15.642144583357272,
           15.611256452087368,
           15.580368320817456,
           15.549480189547545,
           15.518592058277633,
           15.487703927007729,
           15.456815795737818
          ],
          [
           17.179646057142342,
           17.148757925872438,
           17.117869794602527,
           17.086981663332615,
           17.05609353206271,
           17.0252054007928,
           16.994317269522888,
           16.963429138252984,
           16.932541006983072,
           16.90165287571316,
           16.87076474444325,
           16.839876613173345,
           16.808988481903434,
           16.778100350633522,
           16.747212219363618,
           16.716324088093707,
           16.685435956823795,
           16.65454782555389,
           16.62365969428398,
           16.592771563014068,
           16.561883431744164,
           16.530995300474252,
           16.50010716920434,
           16.469219037934437,
           16.438330906664525,
           16.407442775394614,
           16.37655464412471,
           16.345666512854798,
           16.314778381584887,
           16.283890250314982,
           16.25300211904507,
           16.22211398777516,
           16.191225856505255,
           16.160337725235344,
           16.129449593965433,
           16.09856146269552,
           16.067673331425617,
           16.036785200155705,
           16.005897068885794,
           15.97500893761589,
           15.944120806345978,
           15.913232675076067,
           15.882344543806163,
           15.851456412536251,
           15.82056828126634,
           15.789680149996435,
           15.758792018726524,
           15.727903887456613,
           15.697015756186708,
           15.666127624916797,
           15.635239493646885,
           15.604351362376974,
           15.57346323110707,
           15.542575099837158,
           15.511686968567247,
           15.480798837297343,
           15.449910706027431,
           15.41902257475752,
           15.388134443487615,
           15.357246312217704,
           15.326358180947793,
           15.295470049677888,
           15.264581918407977,
           15.233693787138066,
           15.202805655868161,
           15.17191752459825,
           15.141029393328338,
           15.110141262058434,
           15.079253130788523,
           15.048364999518611,
           15.017476868248707,
           14.986588736978796,
           14.955700605708884,
           14.92481247443898,
           14.893924343169068,
           14.863036211899157
          ],
          [
           16.585866473303682,
           16.554978342033777,
           16.524090210763866,
           16.493202079493955,
           16.46231394822405,
           16.43142581695414,
           16.400537685684228,
           16.369649554414323,
           16.338761423144412,
           16.3078732918745,
           16.276985160604596,
           16.246097029334685,
           16.215208898064773,
           16.184320766794862,
           16.153432635524958,
           16.122544504255046,
           16.091656372985135,
           16.06076824171523,
           16.02988011044532,
           15.998991979175408,
           15.968103847905503,
           15.937215716635592,
           15.90632758536568,
           15.875439454095776,
           15.844551322825865,
           15.813663191555953,
           15.782775060286049,
           15.751886929016138,
           15.720998797746226,
           15.690110666476322,
           15.65922253520641,
           15.628334403936499,
           15.597446272666588,
           15.566558141396683,
           15.535670010126772,
           15.50478187885686,
           15.473893747586956,
           15.443005616317045,
           15.412117485047133,
           15.381229353777229,
           15.350341222507318,
           15.319453091237406,
           15.288564959967502,
           15.25767682869759,
           15.22678869742768,
           15.195900566157775,
           15.165012434887863,
           15.134124303617952,
           15.103236172348048,
           15.072348041078136,
           15.041459909808225,
           15.01057177853832,
           14.97968364726841,
           14.948795515998498,
           14.917907384728593,
           14.887019253458682,
           14.85613112218877,
           14.82524299091886,
           14.794354859648955,
           14.763466728379044,
           14.732578597109132,
           14.701690465839228,
           14.670802334569316,
           14.639914203299405,
           14.6090260720295,
           14.57813794075959,
           14.547249809489678,
           14.516361678219774,
           14.485473546949862,
           14.45458541567995,
           14.423697284410046,
           14.392809153140135,
           14.361921021870224,
           14.331032890600312,
           14.300144759330408,
           14.269256628060496
          ],
          [
           15.992086889465021,
           15.961198758195117,
           15.930310626925205,
           15.899422495655294,
           15.86853436438539,
           15.837646233115478,
           15.806758101845567,
           15.775869970575663,
           15.744981839305751,
           15.71409370803584,
           15.683205576765928,
           15.652317445496024,
           15.621429314226113,
           15.590541182956201,
           15.559653051686297,
           15.528764920416386,
           15.497876789146474,
           15.46698865787657,
           15.436100526606658,
           15.405212395336747,
           15.374324264066843,
           15.343436132796931,
           15.31254800152702,
           15.281659870257116,
           15.250771738987204,
           15.219883607717293,
           15.188995476447388,
           15.158107345177477,
           15.127219213907566,
           15.096331082637661,
           15.06544295136775,
           15.034554820097839,
           15.003666688827934,
           14.972778557558023,
           14.941890426288111,
           14.9110022950182,
           14.880114163748296,
           14.849226032478384,
           14.818337901208473,
           14.787449769938569,
           14.756561638668657,
           14.725673507398746,
           14.694785376128841,
           14.66389724485893,
           14.633009113589019,
           14.602120982319114,
           14.571232851049203,
           14.540344719779291,
           14.509456588509387,
           14.478568457239476,
           14.447680325969564,
           14.416792194699653,
           14.385904063429749,
           14.355015932159837,
           14.324127800889926,
           14.293239669620021,
           14.26235153835011,
           14.231463407080199,
           14.200575275810294,
           14.169687144540383,
           14.138799013270472,
           14.107910882000567,
           14.077022750730656,
           14.046134619460744,
           14.01524648819084,
           13.984358356920929,
           13.953470225651017,
           13.922582094381113,
           13.891693963111202,
           13.86080583184129,
           13.829917700571386,
           13.799029569301474,
           13.768141438031563,
           13.737253306761659,
           13.706365175491747,
           13.675477044221836
          ],
          [
           15.39830730562636,
           15.367419174356456,
           15.336531043086545,
           15.305642911816634,
           15.27475478054673,
           15.243866649276818,
           15.212978518006906,
           15.182090386737002,
           15.15120225546709,
           15.12031412419718,
           15.089425992927275,
           15.058537861657364,
           15.027649730387452,
           14.99676159911754,
           14.965873467847636,
           14.934985336577725,
           14.904097205307814,
           14.87320907403791,
           14.842320942767998,
           14.811432811498086,
           14.780544680228182,
           14.74965654895827,
           14.71876841768836,
           14.687880286418455,
           14.656992155148544,
           14.626104023878632,
           14.595215892608728,
           14.564327761338816,
           14.533439630068905,
           14.502551498799,
           14.47166336752909,
           14.440775236259178,
           14.409887104989267,
           14.378998973719362,
           14.34811084244945,
           14.31722271117954,
           14.286334579909635,
           14.255446448639724,
           14.224558317369812,
           14.193670186099908,
           14.162782054829997,
           14.131893923560085,
           14.10100579229018,
           14.07011766102027,
           14.039229529750358,
           14.008341398480454,
           13.977453267210542,
           13.94656513594063,
           13.915677004670727,
           13.884788873400815,
           13.853900742130904,
           13.823012610861,
           13.792124479591088,
           13.761236348321177,
           13.730348217051272,
           13.69946008578136,
           13.66857195451145,
           13.637683823241538,
           13.606795691971634,
           13.575907560701722,
           13.545019429431811,
           13.514131298161907,
           13.483243166891995,
           13.452355035622084,
           13.42146690435218,
           13.390578773082268,
           13.359690641812357,
           13.328802510542452,
           13.297914379272541,
           13.26702624800263,
           13.236138116732725,
           13.205249985462814,
           13.174361854192902,
           13.143473722922991,
           13.112585591653087,
           13.081697460383175
          ],
          [
           14.8045277217877,
           14.773639590517796,
           14.742751459247884,
           14.711863327977973,
           14.680975196708069,
           14.650087065438157,
           14.619198934168246,
           14.588310802898341,
           14.55742267162843,
           14.526534540358519,
           14.495646409088607,
           14.464758277818703,
           14.433870146548792,
           14.40298201527888,
           14.372093884008976,
           14.341205752739064,
           14.310317621469153,
           14.279429490199249,
           14.248541358929337,
           14.217653227659426,
           14.186765096389522,
           14.15587696511961,
           14.124988833849699,
           14.094100702579794,
           14.063212571309883,
           14.032324440039972,
           14.001436308770067,
           13.970548177500156,
           13.939660046230244,
           13.90877191496034,
           13.877883783690429,
           13.846995652420517,
           13.816107521150613,
           13.785219389880702,
           13.75433125861079,
           13.723443127340879,
           13.692554996070974,
           13.661666864801063,
           13.630778733531152,
           13.599890602261247,
           13.569002470991336,
           13.538114339721425,
           13.50722620845152,
           13.476338077181609,
           13.445449945911697,
           13.414561814641793,
           13.383673683371882,
           13.35278555210197,
           13.321897420832066,
           13.291009289562155,
           13.260121158292243,
           13.229233027022332,
           13.198344895752427,
           13.167456764482516,
           13.136568633212605,
           13.1056805019427,
           13.074792370672789,
           13.043904239402877,
           13.013016108132973,
           12.982127976863062,
           12.95123984559315,
           12.920351714323246,
           12.889463583053335,
           12.858575451783423,
           12.827687320513519,
           12.796799189243607,
           12.765911057973696,
           12.735022926703792,
           12.70413479543388,
           12.673246664163969,
           12.642358532894065,
           12.611470401624153,
           12.580582270354242,
           12.549694139084338,
           12.518806007814426,
           12.487917876544515
          ],
          [
           14.21074813794904,
           14.179860006679135,
           14.148971875409224,
           14.118083744139312,
           14.087195612869408,
           14.056307481599497,
           14.025419350329585,
           13.994531219059681,
           13.96364308778977,
           13.932754956519858,
           13.901866825249954,
           13.870978693980042,
           13.840090562710131,
           13.80920243144022,
           13.778314300170315,
           13.747426168900404,
           13.716538037630492,
           13.685649906360588,
           13.654761775090677,
           13.623873643820765,
           13.592985512550861,
           13.56209738128095,
           13.531209250011038,
           13.500321118741134,
           13.469432987471222,
           13.438544856201311,
           13.407656724931407,
           13.376768593661495,
           13.345880462391584,
           13.31499233112168,
           13.284104199851768,
           13.253216068581857,
           13.222327937311945,
           13.191439806042041,
           13.16055167477213,
           13.129663543502218,
           13.098775412232314,
           13.067887280962402,
           13.036999149692491,
           13.006111018422587,
           12.975222887152675,
           12.944334755882764,
           12.91344662461286,
           12.882558493342948,
           12.851670362073037,
           12.820782230803133,
           12.789894099533221,
           12.75900596826331,
           12.728117836993405,
           12.697229705723494,
           12.666341574453583,
           12.635453443183678,
           12.604565311913767,
           12.573677180643855,
           12.542789049373951,
           12.51190091810404,
           12.481012786834128,
           12.450124655564217,
           12.419236524294313,
           12.388348393024401,
           12.35746026175449,
           12.326572130484585,
           12.295683999214674,
           12.264795867944763,
           12.233907736674858,
           12.203019605404947,
           12.172131474135035,
           12.141243342865131,
           12.11035521159522,
           12.079467080325308,
           12.048578949055404,
           12.017690817785493,
           11.986802686515581,
           11.95591455524567,
           11.925026423975766,
           11.894138292705854
          ],
          [
           13.616968554110379,
           13.586080422840475,
           13.555192291570563,
           13.524304160300652,
           13.493416029030747,
           13.462527897760836,
           13.431639766490925,
           13.40075163522102,
           13.369863503951109,
           13.338975372681197,
           13.308087241411286,
           13.277199110141382,
           13.24631097887147,
           13.215422847601559,
           13.184534716331655,
           13.153646585061743,
           13.122758453791832,
           13.091870322521928,
           13.060982191252016,
           13.030094059982105,
           12.9992059287122,
           12.968317797442289,
           12.937429666172378,
           12.906541534902473,
           12.875653403632562,
           12.84476527236265,
           12.813877141092746,
           12.782989009822835,
           12.752100878552923,
           12.721212747283019,
           12.690324616013108,
           12.659436484743196,
           12.628548353473292,
           12.59766022220338,
           12.566772090933469,
           12.535883959663558,
           12.504995828393653,
           12.474107697123742,
           12.44321956585383,
           12.412331434583926,
           12.381443303314015,
           12.350555172044103,
           12.319667040774199,
           12.288778909504288,
           12.257890778234376,
           12.227002646964472,
           12.19611451569456,
           12.165226384424649,
           12.134338253154745,
           12.103450121884833,
           12.072561990614922,
           12.04167385934501,
           12.010785728075106,
           11.979897596805195,
           11.949009465535283,
           11.91812133426538,
           11.887233202995468,
           11.856345071725556,
           11.825456940455652,
           11.79456880918574,
           11.76368067791583,
           11.732792546645925,
           11.701904415376013,
           11.671016284106102,
           11.640128152836198,
           11.609240021566286,
           11.578351890296375,
           11.54746375902647,
           11.51657562775656,
           11.485687496486648,
           11.454799365216743,
           11.423911233946832,
           11.39302310267692,
           11.362134971407016,
           11.331246840137105,
           11.300358708867194
          ],
          [
           13.023188970271718,
           12.992300839001814,
           12.961412707731903,
           12.930524576461991,
           12.899636445192087,
           12.868748313922175,
           12.837860182652264,
           12.80697205138236,
           12.776083920112448,
           12.745195788842537,
           12.714307657572633,
           12.683419526302721,
           12.65253139503281,
           12.621643263762898,
           12.590755132492994,
           12.559867001223083,
           12.528978869953171,
           12.498090738683267,
           12.467202607413356,
           12.436314476143444,
           12.40542634487354,
           12.374538213603628,
           12.343650082333717,
           12.312761951063813,
           12.281873819793901,
           12.25098568852399,
           12.220097557254086,
           12.189209425984174,
           12.158321294714263,
           12.127433163444358,
           12.096545032174447,
           12.065656900904536,
           12.034768769634624,
           12.00388063836472,
           11.972992507094808,
           11.942104375824897,
           11.911216244554993,
           11.880328113285081,
           11.84943998201517,
           11.818551850745266,
           11.787663719475354,
           11.756775588205443,
           11.725887456935538,
           11.694999325665627,
           11.664111194395716,
           11.633223063125811,
           11.6023349318559,
           11.571446800585989,
           11.540558669316084,
           11.509670538046173,
           11.478782406776261,
           11.447894275506357,
           11.417006144236446,
           11.386118012966534,
           11.35522988169663,
           11.324341750426719,
           11.293453619156807,
           11.262565487886896,
           11.231677356616991,
           11.20078922534708,
           11.169901094077169,
           11.139012962807264,
           11.108124831537353,
           11.077236700267441,
           11.046348568997537,
           11.015460437727626,
           10.984572306457714,
           10.95368417518781,
           10.922796043917899,
           10.891907912647987,
           10.861019781378083,
           10.830131650108171,
           10.79924351883826,
           10.768355387568349,
           10.737467256298444,
           10.706579125028533
          ],
          [
           12.429409386433058,
           12.398521255163153,
           12.367633123893242,
           12.33674499262333,
           12.305856861353426,
           12.274968730083515,
           12.244080598813603,
           12.2131924675437,
           12.182304336273788,
           12.151416205003876,
           12.120528073733965,
           12.08963994246406,
           12.05875181119415,
           12.027863679924238,
           11.996975548654333,
           11.966087417384422,
           11.93519928611451,
           11.904311154844606,
           11.873423023574695,
           11.842534892304784,
           11.81164676103488,
           11.780758629764968,
           11.749870498495056,
           11.718982367225152,
           11.68809423595524,
           11.65720610468533,
           11.626317973415425,
           11.595429842145514,
           11.564541710875602,
           11.533653579605698,
           11.502765448335786,
           11.471877317065875,
           11.44098918579597,
           11.41010105452606,
           11.379212923256148,
           11.348324791986236,
           11.317436660716332,
           11.28654852944642,
           11.25566039817651,
           11.224772266906605,
           11.193884135636694,
           11.162996004366782,
           11.132107873096878,
           11.101219741826966,
           11.070331610557055,
           11.03944347928715,
           11.00855534801724,
           10.977667216747328,
           10.946779085477424,
           10.915890954207512,
           10.8850028229376,
           10.85411469166769,
           10.823226560397785,
           10.792338429127874,
           10.761450297857962,
           10.730562166588058,
           10.699674035318147,
           10.668785904048235,
           10.63789777277833,
           10.60700964150842,
           10.576121510238508,
           10.545233378968604,
           10.514345247698692,
           10.48345711642878,
           10.452568985158877,
           10.421680853888965,
           10.390792722619054,
           10.35990459134915,
           10.329016460079238,
           10.298128328809327,
           10.267240197539422,
           10.23635206626951,
           10.2054639349996,
           10.174575803729695,
           10.143687672459784,
           10.112799541189872
          ],
          [
           11.835629802594404,
           11.8047416713245,
           11.773853540054589,
           11.742965408784677,
           11.712077277514773,
           11.681189146244861,
           11.65030101497495,
           11.619412883705046,
           11.588524752435134,
           11.557636621165223,
           11.526748489895311,
           11.495860358625407,
           11.464972227355496,
           11.434084096085584,
           11.40319596481568,
           11.372307833545769,
           11.341419702275857,
           11.310531571005953,
           11.279643439736041,
           11.24875530846613,
           11.217867177196226,
           11.186979045926314,
           11.156090914656403,
           11.125202783386499,
           11.094314652116587,
           11.063426520846676,
           11.032538389576771,
           11.00165025830686,
           10.970762127036949,
           10.939873995767044,
           10.908985864497133,
           10.878097733227222,
           10.847209601957317,
           10.816321470687406,
           10.785433339417494,
           10.754545208147583,
           10.723657076877679,
           10.692768945607767,
           10.661880814337856,
           10.630992683067952,
           10.60010455179804,
           10.569216420528129,
           10.538328289258224,
           10.507440157988313,
           10.476552026718402,
           10.445663895448497,
           10.414775764178586,
           10.383887632908674,
           10.35299950163877,
           10.322111370368859,
           10.291223239098947,
           10.260335107829036,
           10.229446976559132,
           10.19855884528922,
           10.167670714019309,
           10.136782582749404,
           10.105894451479493,
           10.075006320209582,
           10.044118188939677,
           10.013230057669766,
           9.982341926399855,
           9.95145379512995,
           9.920565663860039,
           9.889677532590127,
           9.858789401320223,
           9.827901270050312,
           9.7970131387804,
           9.766125007510496,
           9.735236876240585,
           9.704348744970673,
           9.673460613700769,
           9.642572482430857,
           9.611684351160946,
           9.580796219891042,
           9.54990808862113,
           9.519019957351219
          ],
          [
           11.241850218755744,
           11.21096208748584,
           11.180073956215928,
           11.149185824946017,
           11.118297693676112,
           11.0874095624062,
           11.05652143113629,
           11.025633299866385,
           10.994745168596474,
           10.963857037326562,
           10.932968906056658,
           10.902080774786747,
           10.871192643516835,
           10.840304512246924,
           10.80941638097702,
           10.778528249707108,
           10.747640118437197,
           10.716751987167292,
           10.68586385589738,
           10.65497572462747,
           10.624087593357565,
           10.593199462087654,
           10.562311330817742,
           10.531423199547838,
           10.500535068277927,
           10.469646937008015,
           10.43875880573811,
           10.4078706744682,
           10.376982543198288,
           10.346094411928384,
           10.315206280658472,
           10.284318149388561,
           10.25343001811865,
           10.222541886848745,
           10.191653755578834,
           10.160765624308922,
           10.129877493039018,
           10.098989361769107,
           10.068101230499195,
           10.037213099229291,
           10.00632496795938,
           9.975436836689468,
           9.944548705419564,
           9.913660574149652,
           9.882772442879741,
           9.851884311609837,
           9.820996180339925,
           9.790108049070014,
           9.75921991780011,
           9.728331786530198,
           9.697443655260287,
           9.666555523990382,
           9.635667392720471,
           9.60477926145056,
           9.573891130180655,
           9.543002998910744,
           9.512114867640832,
           9.481226736370921,
           9.450338605101017,
           9.419450473831105,
           9.388562342561194,
           9.35767421129129,
           9.326786080021378,
           9.295897948751467,
           9.265009817481562,
           9.234121686211651,
           9.20323355494174,
           9.172345423671835,
           9.141457292401924,
           9.110569161132013,
           9.079681029862108,
           9.048792898592197,
           9.017904767322285,
           8.987016636052374,
           8.95612850478247,
           8.925240373512558
          ],
          [
           10.648070634917083,
           10.617182503647179,
           10.586294372377267,
           10.555406241107356,
           10.524518109837452,
           10.49362997856754,
           10.462741847297629,
           10.431853716027724,
           10.400965584757813,
           10.370077453487902,
           10.33918932221799,
           10.308301190948086,
           10.277413059678175,
           10.246524928408263,
           10.215636797138359,
           10.184748665868447,
           10.153860534598536,
           10.122972403328632,
           10.09208427205872,
           10.061196140788809,
           10.030308009518905,
           9.999419878248993,
           9.968531746979082,
           9.937643615709177,
           9.906755484439266,
           9.875867353169355,
           9.84497922189945,
           9.814091090629539,
           9.783202959359627,
           9.752314828089723,
           9.721426696819812,
           9.6905385655499,
           9.659650434279996,
           9.628762303010085,
           9.597874171740173,
           9.566986040470262,
           9.536097909200357,
           9.505209777930446,
           9.474321646660535,
           9.44343351539063,
           9.412545384120719,
           9.381657252850808,
           9.350769121580903,
           9.319880990310992,
           9.28899285904108,
           9.258104727771176,
           9.227216596501265,
           9.196328465231353,
           9.165440333961449,
           9.134552202691538,
           9.103664071421626,
           9.072775940151715,
           9.04188780888181,
           9.010999677611899,
           8.980111546341988,
           8.949223415072083,
           8.918335283802172,
           8.88744715253226,
           8.856559021262356,
           8.825670889992445,
           8.794782758722533,
           8.763894627452629,
           8.733006496182718,
           8.702118364912806,
           8.671230233642902,
           8.64034210237299,
           8.609453971103079,
           8.578565839833175,
           8.547677708563263,
           8.516789577293352,
           8.485901446023448,
           8.455013314753536,
           8.424125183483625,
           8.39323705221372,
           8.362348920943809,
           8.331460789673898
          ],
          [
           10.054291051078422,
           10.023402919808518,
           9.992514788538607,
           9.961626657268695,
           9.930738525998791,
           9.89985039472888,
           9.868962263458968,
           9.838074132189064,
           9.807186000919152,
           9.776297869649241,
           9.745409738379337,
           9.714521607109425,
           9.683633475839514,
           9.652745344569603,
           9.621857213299698,
           9.590969082029787,
           9.560080950759875,
           9.529192819489971,
           9.49830468822006,
           9.467416556950148,
           9.436528425680244,
           9.405640294410333,
           9.374752163140421,
           9.343864031870517,
           9.312975900600605,
           9.282087769330694,
           9.25119963806079,
           9.220311506790878,
           9.189423375520967,
           9.158535244251063,
           9.127647112981151,
           9.09675898171124,
           9.065870850441328,
           9.034982719171424,
           9.004094587901513,
           8.973206456631601,
           8.942318325361697,
           8.911430194091785,
           8.880542062821874,
           8.84965393155197,
           8.818765800282058,
           8.787877669012147,
           8.756989537742243,
           8.726101406472331,
           8.69521327520242,
           8.664325143932516,
           8.633437012662604,
           8.602548881392693,
           8.571660750122788,
           8.540772618852877,
           8.509884487582966,
           8.478996356313061,
           8.44810822504315,
           8.417220093773238,
           8.386331962503334,
           8.355443831233423,
           8.324555699963511,
           8.2936675686936,
           8.262779437423696,
           8.231891306153784,
           8.201003174883873,
           8.170115043613968,
           8.139226912344057,
           8.108338781074146,
           8.077450649804241,
           8.04656251853433,
           8.015674387264418,
           7.984786255994514,
           7.953898124724603,
           7.923009993454691,
           7.892121862184787,
           7.861233730914876,
           7.830345599644964,
           7.799457468375053,
           7.7685693371051485,
           7.737681205835237
          ],
          [
           9.460511467239762,
           9.429623335969858,
           9.398735204699946,
           9.367847073430035,
           9.33695894216013,
           9.306070810890219,
           9.275182679620308,
           9.244294548350403,
           9.213406417080492,
           9.18251828581058,
           9.151630154540669,
           9.120742023270765,
           9.089853892000853,
           9.058965760730942,
           9.028077629461038,
           8.997189498191126,
           8.966301366921215,
           8.93541323565131,
           8.904525104381399,
           8.873636973111488,
           8.842748841841583,
           8.811860710571672,
           8.78097257930176,
           8.750084448031856,
           8.719196316761945,
           8.688308185492033,
           8.65742005422213,
           8.626531922952218,
           8.595643791682306,
           8.564755660412402,
           8.53386752914249,
           8.50297939787258,
           8.472091266602675,
           8.441203135332763,
           8.410315004062852,
           8.37942687279294,
           8.348538741523036,
           8.317650610253125,
           8.286762478983213,
           8.25587434771331,
           8.224986216443398,
           8.194098085173486,
           8.163209953903582,
           8.13232182263367,
           8.10143369136376,
           8.070545560093855,
           8.039657428823944,
           8.008769297554032,
           7.977881166284128,
           7.946993035014216,
           7.916104903744305,
           7.885216772474394,
           7.854328641204489,
           7.823440509934578,
           7.792552378664666,
           7.761664247394762,
           7.730776116124851,
           7.699887984854939,
           7.668999853585035,
           7.638111722315124,
           7.607223591045212,
           7.576335459775308,
           7.5454473285053965,
           7.514559197235485,
           7.483671065965581,
           7.452782934695669,
           7.421894803425758,
           7.391006672155854,
           7.360118540885942,
           7.329230409616031,
           7.2983422783461265,
           7.267454147076215,
           7.236566015806304,
           7.205677884536399,
           7.174789753266488,
           7.1439016219965765
          ],
          [
           8.866731883401101,
           8.835843752131197,
           8.804955620861286,
           8.774067489591374,
           8.74317935832147,
           8.712291227051558,
           8.681403095781647,
           8.650514964511743,
           8.619626833241831,
           8.58873870197192,
           8.557850570702016,
           8.526962439432104,
           8.496074308162193,
           8.465186176892281,
           8.434298045622377,
           8.403409914352466,
           8.372521783082554,
           8.34163365181265,
           8.310745520542739,
           8.279857389272827,
           8.248969258002923,
           8.218081126733011,
           8.1871929954631,
           8.156304864193196,
           8.125416732923284,
           8.094528601653373,
           8.063640470383469,
           8.032752339113557,
           8.001864207843646,
           7.970976076573741,
           7.94008794530383,
           7.909199814033919,
           7.878311682764007,
           7.847423551494103,
           7.8165354202241915,
           7.78564728895428,
           7.754759157684376,
           7.723871026414464,
           7.692982895144553,
           7.662094763874649,
           7.631206632604737,
           7.600318501334826,
           7.5694303700649215,
           7.53854223879501,
           7.507654107525099,
           7.476765976255194,
           7.445877844985283,
           7.4149897137153715,
           7.384101582445467,
           7.353213451175556,
           7.322325319905644,
           7.29143718863574,
           7.260549057365829,
           7.229660926095917,
           7.198772794826013,
           7.1678846635561015,
           7.13699653228619,
           7.106108401016279,
           7.075220269746374,
           7.044332138476463,
           7.013444007206552,
           6.982555875936647,
           6.951667744666736,
           6.9207796133968245,
           6.88989148212692,
           6.859003350857009,
           6.828115219587097,
           6.797227088317193,
           6.766338957047282,
           6.73545082577737,
           6.704562694507466,
           6.6736745632375545,
           6.642786431967643,
           6.611898300697732,
           6.581010169427827,
           6.550122038157916
          ]
         ]
        }
       ],
       "layout": {
        "legend": {
         "title": {
          "text": "poverty_pred"
         },
         "tracegroupgap": 0
        },
        "scene": {
         "domain": {
          "x": [
           0,
           1
          ],
          "y": [
           0,
           1
          ]
         },
         "xaxis": {
          "title": {
           "text": "white"
          }
         },
         "yaxis": {
          "title": {
           "text": "hs_grad"
          }
         },
         "zaxis": {
          "title": {
           "text": "poverty"
          }
         }
        },
        "template": {
         "data": {
          "bar": [
           {
            "error_x": {
             "color": "#2a3f5f"
            },
            "error_y": {
             "color": "#2a3f5f"
            },
            "marker": {
             "line": {
              "color": "#E5ECF6",
              "width": 0.5
             }
            },
            "type": "bar"
           }
          ],
          "barpolar": [
           {
            "marker": {
             "line": {
              "color": "#E5ECF6",
              "width": 0.5
             }
            },
            "type": "barpolar"
           }
          ],
          "carpet": [
           {
            "aaxis": {
             "endlinecolor": "#2a3f5f",
             "gridcolor": "white",
             "linecolor": "white",
             "minorgridcolor": "white",
             "startlinecolor": "#2a3f5f"
            },
            "baxis": {
             "endlinecolor": "#2a3f5f",
             "gridcolor": "white",
             "linecolor": "white",
             "minorgridcolor": "white",
             "startlinecolor": "#2a3f5f"
            },
            "type": "carpet"
           }
          ],
          "choropleth": [
           {
            "colorbar": {
             "outlinewidth": 0,
             "ticks": ""
            },
            "type": "choropleth"
           }
          ],
          "contour": [
           {
            "colorbar": {
             "outlinewidth": 0,
             "ticks": ""
            },
            "colorscale": [
             [
              0,
              "#0d0887"
             ],
             [
              0.1111111111111111,
              "#46039f"
             ],
             [
              0.2222222222222222,
              "#7201a8"
             ],
             [
              0.3333333333333333,
              "#9c179e"
             ],
             [
              0.4444444444444444,
              "#bd3786"
             ],
             [
              0.5555555555555556,
              "#d8576b"
             ],
             [
              0.6666666666666666,
              "#ed7953"
             ],
             [
              0.7777777777777778,
              "#fb9f3a"
             ],
             [
              0.8888888888888888,
              "#fdca26"
             ],
             [
              1,
              "#f0f921"
             ]
            ],
            "type": "contour"
           }
          ],
          "contourcarpet": [
           {
            "colorbar": {
             "outlinewidth": 0,
             "ticks": ""
            },
            "type": "contourcarpet"
           }
          ],
          "heatmap": [
           {
            "colorbar": {
             "outlinewidth": 0,
             "ticks": ""
            },
            "colorscale": [
             [
              0,
              "#0d0887"
             ],
             [
              0.1111111111111111,
              "#46039f"
             ],
             [
              0.2222222222222222,
              "#7201a8"
             ],
             [
              0.3333333333333333,
              "#9c179e"
             ],
             [
              0.4444444444444444,
              "#bd3786"
             ],
             [
              0.5555555555555556,
              "#d8576b"
             ],
             [
              0.6666666666666666,
              "#ed7953"
             ],
             [
              0.7777777777777778,
              "#fb9f3a"
             ],
             [
              0.8888888888888888,
              "#fdca26"
             ],
             [
              1,
              "#f0f921"
             ]
            ],
            "type": "heatmap"
           }
          ],
          "heatmapgl": [
           {
            "colorbar": {
             "outlinewidth": 0,
             "ticks": ""
            },
            "colorscale": [
             [
              0,
              "#0d0887"
             ],
             [
              0.1111111111111111,
              "#46039f"
             ],
             [
              0.2222222222222222,
              "#7201a8"
             ],
             [
              0.3333333333333333,
              "#9c179e"
             ],
             [
              0.4444444444444444,
              "#bd3786"
             ],
             [
              0.5555555555555556,
              "#d8576b"
             ],
             [
              0.6666666666666666,
              "#ed7953"
             ],
             [
              0.7777777777777778,
              "#fb9f3a"
             ],
             [
              0.8888888888888888,
              "#fdca26"
             ],
             [
              1,
              "#f0f921"
             ]
            ],
            "type": "heatmapgl"
           }
          ],
          "histogram": [
           {
            "marker": {
             "colorbar": {
              "outlinewidth": 0,
              "ticks": ""
             }
            },
            "type": "histogram"
           }
          ],
          "histogram2d": [
           {
            "colorbar": {
             "outlinewidth": 0,
             "ticks": ""
            },
            "colorscale": [
             [
              0,
              "#0d0887"
             ],
             [
              0.1111111111111111,
              "#46039f"
             ],
             [
              0.2222222222222222,
              "#7201a8"
             ],
             [
              0.3333333333333333,
              "#9c179e"
             ],
             [
              0.4444444444444444,
              "#bd3786"
             ],
             [
              0.5555555555555556,
              "#d8576b"
             ],
             [
              0.6666666666666666,
              "#ed7953"
             ],
             [
              0.7777777777777778,
              "#fb9f3a"
             ],
             [
              0.8888888888888888,
              "#fdca26"
             ],
             [
              1,
              "#f0f921"
             ]
            ],
            "type": "histogram2d"
           }
          ],
          "histogram2dcontour": [
           {
            "colorbar": {
             "outlinewidth": 0,
             "ticks": ""
            },
            "colorscale": [
             [
              0,
              "#0d0887"
             ],
             [
              0.1111111111111111,
              "#46039f"
             ],
             [
              0.2222222222222222,
              "#7201a8"
             ],
             [
              0.3333333333333333,
              "#9c179e"
             ],
             [
              0.4444444444444444,
              "#bd3786"
             ],
             [
              0.5555555555555556,
              "#d8576b"
             ],
             [
              0.6666666666666666,
              "#ed7953"
             ],
             [
              0.7777777777777778,
              "#fb9f3a"
             ],
             [
              0.8888888888888888,
              "#fdca26"
             ],
             [
              1,
              "#f0f921"
             ]
            ],
            "type": "histogram2dcontour"
           }
          ],
          "mesh3d": [
           {
            "colorbar": {
             "outlinewidth": 0,
             "ticks": ""
            },
            "type": "mesh3d"
           }
          ],
          "parcoords": [
           {
            "line": {
             "colorbar": {
              "outlinewidth": 0,
              "ticks": ""
             }
            },
            "type": "parcoords"
           }
          ],
          "pie": [
           {
            "automargin": true,
            "type": "pie"
           }
          ],
          "scatter": [
           {
            "marker": {
             "colorbar": {
              "outlinewidth": 0,
              "ticks": ""
             }
            },
            "type": "scatter"
           }
          ],
          "scatter3d": [
           {
            "line": {
             "colorbar": {
              "outlinewidth": 0,
              "ticks": ""
             }
            },
            "marker": {
             "colorbar": {
              "outlinewidth": 0,
              "ticks": ""
             }
            },
            "type": "scatter3d"
           }
          ],
          "scattercarpet": [
           {
            "marker": {
             "colorbar": {
              "outlinewidth": 0,
              "ticks": ""
             }
            },
            "type": "scattercarpet"
           }
          ],
          "scattergeo": [
           {
            "marker": {
             "colorbar": {
              "outlinewidth": 0,
              "ticks": ""
             }
            },
            "type": "scattergeo"
           }
          ],
          "scattergl": [
           {
            "marker": {
             "colorbar": {
              "outlinewidth": 0,
              "ticks": ""
             }
            },
            "type": "scattergl"
           }
          ],
          "scattermapbox": [
           {
            "marker": {
             "colorbar": {
              "outlinewidth": 0,
              "ticks": ""
             }
            },
            "type": "scattermapbox"
           }
          ],
          "scatterpolar": [
           {
            "marker": {
             "colorbar": {
              "outlinewidth": 0,
              "ticks": ""
             }
            },
            "type": "scatterpolar"
           }
          ],
          "scatterpolargl": [
           {
            "marker": {
             "colorbar": {
              "outlinewidth": 0,
              "ticks": ""
             }
            },
            "type": "scatterpolargl"
           }
          ],
          "scatterternary": [
           {
            "marker": {
             "colorbar": {
              "outlinewidth": 0,
              "ticks": ""
             }
            },
            "type": "scatterternary"
           }
          ],
          "surface": [
           {
            "colorbar": {
             "outlinewidth": 0,
             "ticks": ""
            },
            "colorscale": [
             [
              0,
              "#0d0887"
             ],
             [
              0.1111111111111111,
              "#46039f"
             ],
             [
              0.2222222222222222,
              "#7201a8"
             ],
             [
              0.3333333333333333,
              "#9c179e"
             ],
             [
              0.4444444444444444,
              "#bd3786"
             ],
             [
              0.5555555555555556,
              "#d8576b"
             ],
             [
              0.6666666666666666,
              "#ed7953"
             ],
             [
              0.7777777777777778,
              "#fb9f3a"
             ],
             [
              0.8888888888888888,
              "#fdca26"
             ],
             [
              1,
              "#f0f921"
             ]
            ],
            "type": "surface"
           }
          ],
          "table": [
           {
            "cells": {
             "fill": {
              "color": "#EBF0F8"
             },
             "line": {
              "color": "white"
             }
            },
            "header": {
             "fill": {
              "color": "#C8D4E3"
             },
             "line": {
              "color": "white"
             }
            },
            "type": "table"
           }
          ]
         },
         "layout": {
          "annotationdefaults": {
           "arrowcolor": "#2a3f5f",
           "arrowhead": 0,
           "arrowwidth": 1
          },
          "autotypenumbers": "strict",
          "coloraxis": {
           "colorbar": {
            "outlinewidth": 0,
            "ticks": ""
           }
          },
          "colorscale": {
           "diverging": [
            [
             0,
             "#8e0152"
            ],
            [
             0.1,
             "#c51b7d"
            ],
            [
             0.2,
             "#de77ae"
            ],
            [
             0.3,
             "#f1b6da"
            ],
            [
             0.4,
             "#fde0ef"
            ],
            [
             0.5,
             "#f7f7f7"
            ],
            [
             0.6,
             "#e6f5d0"
            ],
            [
             0.7,
             "#b8e186"
            ],
            [
             0.8,
             "#7fbc41"
            ],
            [
             0.9,
             "#4d9221"
            ],
            [
             1,
             "#276419"
            ]
           ],
           "sequential": [
            [
             0,
             "#0d0887"
            ],
            [
             0.1111111111111111,
             "#46039f"
            ],
            [
             0.2222222222222222,
             "#7201a8"
            ],
            [
             0.3333333333333333,
             "#9c179e"
            ],
            [
             0.4444444444444444,
             "#bd3786"
            ],
            [
             0.5555555555555556,
             "#d8576b"
            ],
            [
             0.6666666666666666,
             "#ed7953"
            ],
            [
             0.7777777777777778,
             "#fb9f3a"
            ],
            [
             0.8888888888888888,
             "#fdca26"
            ],
            [
             1,
             "#f0f921"
            ]
           ],
           "sequentialminus": [
            [
             0,
             "#0d0887"
            ],
            [
             0.1111111111111111,
             "#46039f"
            ],
            [
             0.2222222222222222,
             "#7201a8"
            ],
            [
             0.3333333333333333,
             "#9c179e"
            ],
            [
             0.4444444444444444,
             "#bd3786"
            ],
            [
             0.5555555555555556,
             "#d8576b"
            ],
            [
             0.6666666666666666,
             "#ed7953"
            ],
            [
             0.7777777777777778,
             "#fb9f3a"
            ],
            [
             0.8888888888888888,
             "#fdca26"
            ],
            [
             1,
             "#f0f921"
            ]
           ]
          },
          "colorway": [
           "#636efa",
           "#EF553B",
           "#00cc96",
           "#ab63fa",
           "#FFA15A",
           "#19d3f3",
           "#FF6692",
           "#B6E880",
           "#FF97FF",
           "#FECB52"
          ],
          "font": {
           "color": "#2a3f5f"
          },
          "geo": {
           "bgcolor": "white",
           "lakecolor": "white",
           "landcolor": "#E5ECF6",
           "showlakes": true,
           "showland": true,
           "subunitcolor": "white"
          },
          "hoverlabel": {
           "align": "left"
          },
          "hovermode": "closest",
          "mapbox": {
           "style": "light"
          },
          "paper_bgcolor": "white",
          "plot_bgcolor": "#E5ECF6",
          "polar": {
           "angularaxis": {
            "gridcolor": "white",
            "linecolor": "white",
            "ticks": ""
           },
           "bgcolor": "#E5ECF6",
           "radialaxis": {
            "gridcolor": "white",
            "linecolor": "white",
            "ticks": ""
           }
          },
          "scene": {
           "xaxis": {
            "backgroundcolor": "#E5ECF6",
            "gridcolor": "white",
            "gridwidth": 2,
            "linecolor": "white",
            "showbackground": true,
            "ticks": "",
            "zerolinecolor": "white"
           },
           "yaxis": {
            "backgroundcolor": "#E5ECF6",
            "gridcolor": "white",
            "gridwidth": 2,
            "linecolor": "white",
            "showbackground": true,
            "ticks": "",
            "zerolinecolor": "white"
           },
           "zaxis": {
            "backgroundcolor": "#E5ECF6",
            "gridcolor": "white",
            "gridwidth": 2,
            "linecolor": "white",
            "showbackground": true,
            "ticks": "",
            "zerolinecolor": "white"
           }
          },
          "shapedefaults": {
           "line": {
            "color": "#2a3f5f"
           }
          },
          "ternary": {
           "aaxis": {
            "gridcolor": "white",
            "linecolor": "white",
            "ticks": ""
           },
           "baxis": {
            "gridcolor": "white",
            "linecolor": "white",
            "ticks": ""
           },
           "bgcolor": "#E5ECF6",
           "caxis": {
            "gridcolor": "white",
            "linecolor": "white",
            "ticks": ""
           }
          },
          "title": {
           "x": 0.05
          },
          "xaxis": {
           "automargin": true,
           "gridcolor": "white",
           "linecolor": "white",
           "ticks": "",
           "title": {
            "standoff": 15
           },
           "zerolinecolor": "white",
           "zerolinewidth": 2
          },
          "yaxis": {
           "automargin": true,
           "gridcolor": "white",
           "linecolor": "white",
           "ticks": "",
           "title": {
            "standoff": 15
           },
           "zerolinecolor": "white",
           "zerolinewidth": 2
          }
         }
        },
        "title": {
         "text": "зависиость процента белого населения и уровня образования на бедность населения"
        }
       }
      },
      "text/html": [
       "<div>                            <div id=\"88373f3f-6d68-460d-aad6-05ba98dec789\" class=\"plotly-graph-div\" style=\"height:525px; width:100%;\"></div>            <script type=\"text/javascript\">                require([\"plotly\"], function(Plotly) {                    window.PLOTLYENV=window.PLOTLYENV || {};                                    if (document.getElementById(\"88373f3f-6d68-460d-aad6-05ba98dec789\")) {                    Plotly.newPlot(                        \"88373f3f-6d68-460d-aad6-05ba98dec789\",                        [{\"hovertemplate\": \"poverty_pred=False<br>white=%{x}<br>hs_grad=%{y}<br>poverty=%{z}<extra></extra>\", \"legendgroup\": \"False\", \"marker\": {\"color\": \"red\", \"size\": 3, \"symbol\": \"circle\"}, \"mode\": \"markers\", \"name\": \"False\", \"scene\": \"scene\", \"showlegend\": true, \"type\": \"scatter3d\", \"x\": [71.3, 70.8, 77.5, 90.2, 85.4, 76.3, 80.6, 67.5, 25.9, 79.5, 88.9, 94.9, 89.3, 65.6, 87.2, 81.5, 90.2, 85.3, 84.1, 96.3, 77.3, 74.1, 85.4, 86.4, 89.2, 67.7, 80.8, 83.6, 73.9, 90.1], \"y\": [79.9, 90.6, 81.1, 88.7, 87.5, 88.7, 84.7, 85.1, 88.5, 85.9, 86.4, 89.7, 88.6, 87.6, 87.1, 87.6, 91.6, 88.3, 85.6, 92.1, 86.2, 81.4, 87.2, 86.0, 81.0, 80.8, 81.0, 77.2, 87.8, 88.6], \"z\": [14.6, 8.3, 12.8, 9.4, 7.8, 8.1, 12.1, 12.1, 10.6, 11.2, 8.7, 8.3, 9.4, 7.3, 9.6, 10.3, 6.5, 9.6, 8.3, 5.6, 7.8, 13.1, 10.1, 9.2, 10.3, 13.5, 14.2, 15.3, 8.7, 8.6]}, {\"hovertemplate\": \"poverty_pred=True<br>white=%{x}<br>hs_grad=%{y}<br>poverty=%{z}<extra></extra>\", \"legendgroup\": \"True\", \"marker\": {\"color\": \"green\", \"size\": 3, \"symbol\": \"circle\"}, \"mode\": \"markers\", \"name\": \"True\", \"scene\": \"scene\", \"showlegend\": true, \"type\": \"scatter3d\", \"x\": [87.7, 81.0, 36.2, 95.5, 90.3, 64.2, 97.1, 61.2, 90.9, 92.1, 84.9, 73.6, 92.5, 78.4, 90.8, 88.8, 93.6, 96.9, 85.5, 95.0, 94.7], \"y\": [83.8, 80.9, 86.0, 88.2, 82.8, 79.8, 86.6, 81.2, 90.1, 90.8, 81.7, 84.2, 89.7, 85.7, 86.9, 88.7, 89.4, 88.9, 89.1, 78.7, 90.9], \"z\": [13.3, 18.0, 16.8, 11.8, 13.1, 17.0, 11.3, 17.6, 13.7, 9.5, 17.8, 14.0, 11.9, 14.7, 11.2, 10.2, 9.3, 9.9, 10.8, 16.0, 9.5]}, {\"name\": \"prediction\", \"opacity\": 0.8, \"type\": \"surface\", \"x\": [23.9, 24.9, 25.9, 26.9, 27.9, 28.9, 29.9, 30.9, 31.9, 32.9, 33.9, 34.9, 35.9, 36.9, 37.9, 38.9, 39.9, 40.9, 41.9, 42.9, 43.9, 44.9, 45.9, 46.9, 47.9, 48.9, 49.9, 50.9, 51.9, 52.9, 53.9, 54.9, 55.9, 56.9, 57.9, 58.9, 59.9, 60.9, 61.9, 62.9, 63.9, 64.9, 65.9, 66.9, 67.9, 68.9, 69.9, 70.9, 71.9, 72.9, 73.9, 74.9, 75.9, 76.9, 77.9, 78.9, 79.9, 80.9, 81.9, 82.9, 83.9, 84.9, 85.9, 86.9, 87.9, 88.9, 89.9, 90.9, 91.9, 92.9, 93.9, 94.9, 95.9, 96.9, 97.9, 98.9], \"y\": [75.2, 76.2, 77.2, 78.2, 79.2, 80.2, 81.2, 82.2, 83.2, 84.2, 85.2, 86.2, 87.2, 88.2, 89.2, 90.2, 91.2, 92.2, 93.2], \"z\": [[19.554764392496985, 19.52387626122708, 19.49298812995717, 19.462099998687258, 19.431211867417353, 19.400323736147442, 19.36943560487753, 19.338547473607626, 19.307659342337715, 19.276771211067803, 19.245883079797892, 19.214994948527988, 19.184106817258076, 19.153218685988165, 19.12233055471826, 19.09144242344835, 19.060554292178438, 19.029666160908533, 18.998778029638622, 18.96788989836871, 18.937001767098806, 18.906113635828895, 18.875225504558983, 18.84433737328908, 18.813449242019168, 18.782561110749256, 18.751672979479352, 18.72078484820944, 18.68989671693953, 18.659008585669625, 18.628120454399713, 18.597232323129802, 18.566344191859898, 18.535456060589986, 18.504567929320075, 18.473679798050163, 18.44279166678026, 18.411903535510348, 18.381015404240436, 18.350127272970532, 18.31923914170062, 18.28835101043071, 18.257462879160805, 18.226574747890893, 18.195686616620982, 18.164798485351078, 18.133910354081166, 18.103022222811255, 18.07213409154135, 18.04124596027144, 18.010357829001528, 17.979469697731616, 17.948581566461712, 17.9176934351918, 17.88680530392189, 17.855917172651985, 17.825029041382074, 17.794140910112162, 17.763252778842258, 17.732364647572346, 17.701476516302435, 17.67058838503253, 17.63970025376262, 17.608812122492708, 17.577923991222804, 17.547035859952892, 17.51614772868298, 17.485259597413076, 17.454371466143165, 17.423483334873254, 17.39259520360335, 17.361707072333438, 17.330818941063526, 17.299930809793622, 17.26904267852371, 17.2381545472538], [18.960984808658324, 18.93009667738842, 18.89920854611851, 18.868320414848597, 18.837432283578693, 18.80654415230878, 18.77565602103887, 18.744767889768966, 18.713879758499054, 18.682991627229143, 18.65210349595924, 18.621215364689327, 18.590327233419416, 18.559439102149504, 18.5285509708796, 18.49766283960969, 18.466774708339777, 18.435886577069873, 18.40499844579996, 18.37411031453005, 18.343222183260146, 18.312334051990234, 18.281445920720323, 18.25055778945042, 18.219669658180507, 18.188781526910596, 18.15789339564069, 18.12700526437078, 18.09611713310087, 18.065229001830964, 18.034340870561053, 18.00345273929114, 17.97256460802123, 17.941676476751326, 17.910788345481414, 17.879900214211503, 17.8490120829416, 17.818123951671687, 17.787235820401776, 17.75634768913187, 17.72545955786196, 17.69457142659205, 17.663683295322144, 17.632795164052233, 17.60190703278232, 17.571018901512417, 17.540130770242506, 17.509242638972594, 17.47835450770269, 17.44746637643278, 17.416578245162867, 17.385690113892963, 17.35480198262305, 17.32391385135314, 17.293025720083236, 17.262137588813324, 17.231249457543413, 17.2003613262735, 17.169473195003597, 17.138585063733686, 17.107696932463774, 17.07680880119387, 17.04592066992396, 17.015032538654047, 16.984144407384143, 16.95325627611423, 16.92236814484432, 16.891480013574416, 16.860591882304504, 16.829703751034593, 16.79881561976469, 16.767927488494777, 16.737039357224866, 16.706151225954954, 16.67526309468505, 16.64437496341514], [18.367205224819664, 18.33631709354976, 18.305428962279848, 18.274540831009936, 18.243652699740032, 18.21276456847012, 18.18187643720021, 18.150988305930305, 18.120100174660394, 18.089212043390482, 18.05832391212057, 18.027435780850666, 17.996547649580755, 17.965659518310844, 17.93477138704094, 17.903883255771028, 17.872995124501116, 17.842106993231212, 17.8112188619613, 17.78033073069139, 17.749442599421485, 17.718554468151574, 17.687666336881662, 17.656778205611758, 17.625890074341847, 17.595001943071935, 17.56411381180203, 17.53322568053212, 17.502337549262208, 17.471449417992304, 17.440561286722392, 17.40967315545248, 17.378785024182577, 17.347896892912665, 17.317008761642754, 17.286120630372842, 17.255232499102938, 17.224344367833027, 17.193456236563115, 17.16256810529321, 17.1316799740233, 17.100791842753388, 17.069903711483484, 17.039015580213572, 17.00812744894366, 16.977239317673757, 16.946351186403845, 16.915463055133934, 16.88457492386403, 16.853686792594118, 16.822798661324207, 16.791910530054295, 16.76102239878439, 16.73013426751448, 16.699246136244568, 16.668358004974664, 16.637469873704752, 16.60658174243484, 16.575693611164937, 16.544805479895025, 16.513917348625114, 16.48302921735521, 16.452141086085298, 16.421252954815387, 16.390364823545482, 16.35947669227557, 16.32858856100566, 16.297700429735755, 16.266812298465844, 16.235924167195932, 16.205036035926028, 16.174147904656117, 16.143259773386205, 16.1123716421163, 16.08148351084639, 16.050595379576478], [17.773425640981003, 17.7425375097111, 17.711649378441187, 17.680761247171276, 17.64987311590137, 17.61898498463146, 17.58809685336155, 17.557208722091644, 17.526320590821733, 17.49543245955182, 17.464544328281917, 17.433656197012006, 17.402768065742094, 17.371879934472183, 17.34099180320228, 17.310103671932367, 17.279215540662456, 17.24832740939255, 17.21743927812264, 17.18655114685273, 17.155663015582824, 17.124774884312913, 17.093886753043, 17.062998621773097, 17.032110490503186, 17.001222359233275, 16.97033422796337, 16.93944609669346, 16.908557965423547, 16.877669834153643, 16.84678170288373, 16.81589357161382, 16.78500544034391, 16.754117309074005, 16.723229177804093, 16.69234104653418, 16.661452915264277, 16.630564783994366, 16.599676652724455, 16.56878852145455, 16.53790039018464, 16.507012258914727, 16.476124127644823, 16.44523599637491, 16.414347865105, 16.383459733835096, 16.352571602565185, 16.321683471295273, 16.29079534002537, 16.259907208755457, 16.229019077485546, 16.19813094621564, 16.16724281494573, 16.13635468367582, 16.105466552405915, 16.074578421136003, 16.043690289866092, 16.01280215859618, 15.981914027326276, 15.951025896056365, 15.920137764786453, 15.889249633516549, 15.858361502246638, 15.827473370976726, 15.796585239706822, 15.76569710843691, 15.734808977166999, 15.703920845897095, 15.673032714627183, 15.642144583357272, 15.611256452087368, 15.580368320817456, 15.549480189547545, 15.518592058277633, 15.487703927007729, 15.456815795737818], [17.179646057142342, 17.148757925872438, 17.117869794602527, 17.086981663332615, 17.05609353206271, 17.0252054007928, 16.994317269522888, 16.963429138252984, 16.932541006983072, 16.90165287571316, 16.87076474444325, 16.839876613173345, 16.808988481903434, 16.778100350633522, 16.747212219363618, 16.716324088093707, 16.685435956823795, 16.65454782555389, 16.62365969428398, 16.592771563014068, 16.561883431744164, 16.530995300474252, 16.50010716920434, 16.469219037934437, 16.438330906664525, 16.407442775394614, 16.37655464412471, 16.345666512854798, 16.314778381584887, 16.283890250314982, 16.25300211904507, 16.22211398777516, 16.191225856505255, 16.160337725235344, 16.129449593965433, 16.09856146269552, 16.067673331425617, 16.036785200155705, 16.005897068885794, 15.97500893761589, 15.944120806345978, 15.913232675076067, 15.882344543806163, 15.851456412536251, 15.82056828126634, 15.789680149996435, 15.758792018726524, 15.727903887456613, 15.697015756186708, 15.666127624916797, 15.635239493646885, 15.604351362376974, 15.57346323110707, 15.542575099837158, 15.511686968567247, 15.480798837297343, 15.449910706027431, 15.41902257475752, 15.388134443487615, 15.357246312217704, 15.326358180947793, 15.295470049677888, 15.264581918407977, 15.233693787138066, 15.202805655868161, 15.17191752459825, 15.141029393328338, 15.110141262058434, 15.079253130788523, 15.048364999518611, 15.017476868248707, 14.986588736978796, 14.955700605708884, 14.92481247443898, 14.893924343169068, 14.863036211899157], [16.585866473303682, 16.554978342033777, 16.524090210763866, 16.493202079493955, 16.46231394822405, 16.43142581695414, 16.400537685684228, 16.369649554414323, 16.338761423144412, 16.3078732918745, 16.276985160604596, 16.246097029334685, 16.215208898064773, 16.184320766794862, 16.153432635524958, 16.122544504255046, 16.091656372985135, 16.06076824171523, 16.02988011044532, 15.998991979175408, 15.968103847905503, 15.937215716635592, 15.90632758536568, 15.875439454095776, 15.844551322825865, 15.813663191555953, 15.782775060286049, 15.751886929016138, 15.720998797746226, 15.690110666476322, 15.65922253520641, 15.628334403936499, 15.597446272666588, 15.566558141396683, 15.535670010126772, 15.50478187885686, 15.473893747586956, 15.443005616317045, 15.412117485047133, 15.381229353777229, 15.350341222507318, 15.319453091237406, 15.288564959967502, 15.25767682869759, 15.22678869742768, 15.195900566157775, 15.165012434887863, 15.134124303617952, 15.103236172348048, 15.072348041078136, 15.041459909808225, 15.01057177853832, 14.97968364726841, 14.948795515998498, 14.917907384728593, 14.887019253458682, 14.85613112218877, 14.82524299091886, 14.794354859648955, 14.763466728379044, 14.732578597109132, 14.701690465839228, 14.670802334569316, 14.639914203299405, 14.6090260720295, 14.57813794075959, 14.547249809489678, 14.516361678219774, 14.485473546949862, 14.45458541567995, 14.423697284410046, 14.392809153140135, 14.361921021870224, 14.331032890600312, 14.300144759330408, 14.269256628060496], [15.992086889465021, 15.961198758195117, 15.930310626925205, 15.899422495655294, 15.86853436438539, 15.837646233115478, 15.806758101845567, 15.775869970575663, 15.744981839305751, 15.71409370803584, 15.683205576765928, 15.652317445496024, 15.621429314226113, 15.590541182956201, 15.559653051686297, 15.528764920416386, 15.497876789146474, 15.46698865787657, 15.436100526606658, 15.405212395336747, 15.374324264066843, 15.343436132796931, 15.31254800152702, 15.281659870257116, 15.250771738987204, 15.219883607717293, 15.188995476447388, 15.158107345177477, 15.127219213907566, 15.096331082637661, 15.06544295136775, 15.034554820097839, 15.003666688827934, 14.972778557558023, 14.941890426288111, 14.9110022950182, 14.880114163748296, 14.849226032478384, 14.818337901208473, 14.787449769938569, 14.756561638668657, 14.725673507398746, 14.694785376128841, 14.66389724485893, 14.633009113589019, 14.602120982319114, 14.571232851049203, 14.540344719779291, 14.509456588509387, 14.478568457239476, 14.447680325969564, 14.416792194699653, 14.385904063429749, 14.355015932159837, 14.324127800889926, 14.293239669620021, 14.26235153835011, 14.231463407080199, 14.200575275810294, 14.169687144540383, 14.138799013270472, 14.107910882000567, 14.077022750730656, 14.046134619460744, 14.01524648819084, 13.984358356920929, 13.953470225651017, 13.922582094381113, 13.891693963111202, 13.86080583184129, 13.829917700571386, 13.799029569301474, 13.768141438031563, 13.737253306761659, 13.706365175491747, 13.675477044221836], [15.39830730562636, 15.367419174356456, 15.336531043086545, 15.305642911816634, 15.27475478054673, 15.243866649276818, 15.212978518006906, 15.182090386737002, 15.15120225546709, 15.12031412419718, 15.089425992927275, 15.058537861657364, 15.027649730387452, 14.99676159911754, 14.965873467847636, 14.934985336577725, 14.904097205307814, 14.87320907403791, 14.842320942767998, 14.811432811498086, 14.780544680228182, 14.74965654895827, 14.71876841768836, 14.687880286418455, 14.656992155148544, 14.626104023878632, 14.595215892608728, 14.564327761338816, 14.533439630068905, 14.502551498799, 14.47166336752909, 14.440775236259178, 14.409887104989267, 14.378998973719362, 14.34811084244945, 14.31722271117954, 14.286334579909635, 14.255446448639724, 14.224558317369812, 14.193670186099908, 14.162782054829997, 14.131893923560085, 14.10100579229018, 14.07011766102027, 14.039229529750358, 14.008341398480454, 13.977453267210542, 13.94656513594063, 13.915677004670727, 13.884788873400815, 13.853900742130904, 13.823012610861, 13.792124479591088, 13.761236348321177, 13.730348217051272, 13.69946008578136, 13.66857195451145, 13.637683823241538, 13.606795691971634, 13.575907560701722, 13.545019429431811, 13.514131298161907, 13.483243166891995, 13.452355035622084, 13.42146690435218, 13.390578773082268, 13.359690641812357, 13.328802510542452, 13.297914379272541, 13.26702624800263, 13.236138116732725, 13.205249985462814, 13.174361854192902, 13.143473722922991, 13.112585591653087, 13.081697460383175], [14.8045277217877, 14.773639590517796, 14.742751459247884, 14.711863327977973, 14.680975196708069, 14.650087065438157, 14.619198934168246, 14.588310802898341, 14.55742267162843, 14.526534540358519, 14.495646409088607, 14.464758277818703, 14.433870146548792, 14.40298201527888, 14.372093884008976, 14.341205752739064, 14.310317621469153, 14.279429490199249, 14.248541358929337, 14.217653227659426, 14.186765096389522, 14.15587696511961, 14.124988833849699, 14.094100702579794, 14.063212571309883, 14.032324440039972, 14.001436308770067, 13.970548177500156, 13.939660046230244, 13.90877191496034, 13.877883783690429, 13.846995652420517, 13.816107521150613, 13.785219389880702, 13.75433125861079, 13.723443127340879, 13.692554996070974, 13.661666864801063, 13.630778733531152, 13.599890602261247, 13.569002470991336, 13.538114339721425, 13.50722620845152, 13.476338077181609, 13.445449945911697, 13.414561814641793, 13.383673683371882, 13.35278555210197, 13.321897420832066, 13.291009289562155, 13.260121158292243, 13.229233027022332, 13.198344895752427, 13.167456764482516, 13.136568633212605, 13.1056805019427, 13.074792370672789, 13.043904239402877, 13.013016108132973, 12.982127976863062, 12.95123984559315, 12.920351714323246, 12.889463583053335, 12.858575451783423, 12.827687320513519, 12.796799189243607, 12.765911057973696, 12.735022926703792, 12.70413479543388, 12.673246664163969, 12.642358532894065, 12.611470401624153, 12.580582270354242, 12.549694139084338, 12.518806007814426, 12.487917876544515], [14.21074813794904, 14.179860006679135, 14.148971875409224, 14.118083744139312, 14.087195612869408, 14.056307481599497, 14.025419350329585, 13.994531219059681, 13.96364308778977, 13.932754956519858, 13.901866825249954, 13.870978693980042, 13.840090562710131, 13.80920243144022, 13.778314300170315, 13.747426168900404, 13.716538037630492, 13.685649906360588, 13.654761775090677, 13.623873643820765, 13.592985512550861, 13.56209738128095, 13.531209250011038, 13.500321118741134, 13.469432987471222, 13.438544856201311, 13.407656724931407, 13.376768593661495, 13.345880462391584, 13.31499233112168, 13.284104199851768, 13.253216068581857, 13.222327937311945, 13.191439806042041, 13.16055167477213, 13.129663543502218, 13.098775412232314, 13.067887280962402, 13.036999149692491, 13.006111018422587, 12.975222887152675, 12.944334755882764, 12.91344662461286, 12.882558493342948, 12.851670362073037, 12.820782230803133, 12.789894099533221, 12.75900596826331, 12.728117836993405, 12.697229705723494, 12.666341574453583, 12.635453443183678, 12.604565311913767, 12.573677180643855, 12.542789049373951, 12.51190091810404, 12.481012786834128, 12.450124655564217, 12.419236524294313, 12.388348393024401, 12.35746026175449, 12.326572130484585, 12.295683999214674, 12.264795867944763, 12.233907736674858, 12.203019605404947, 12.172131474135035, 12.141243342865131, 12.11035521159522, 12.079467080325308, 12.048578949055404, 12.017690817785493, 11.986802686515581, 11.95591455524567, 11.925026423975766, 11.894138292705854], [13.616968554110379, 13.586080422840475, 13.555192291570563, 13.524304160300652, 13.493416029030747, 13.462527897760836, 13.431639766490925, 13.40075163522102, 13.369863503951109, 13.338975372681197, 13.308087241411286, 13.277199110141382, 13.24631097887147, 13.215422847601559, 13.184534716331655, 13.153646585061743, 13.122758453791832, 13.091870322521928, 13.060982191252016, 13.030094059982105, 12.9992059287122, 12.968317797442289, 12.937429666172378, 12.906541534902473, 12.875653403632562, 12.84476527236265, 12.813877141092746, 12.782989009822835, 12.752100878552923, 12.721212747283019, 12.690324616013108, 12.659436484743196, 12.628548353473292, 12.59766022220338, 12.566772090933469, 12.535883959663558, 12.504995828393653, 12.474107697123742, 12.44321956585383, 12.412331434583926, 12.381443303314015, 12.350555172044103, 12.319667040774199, 12.288778909504288, 12.257890778234376, 12.227002646964472, 12.19611451569456, 12.165226384424649, 12.134338253154745, 12.103450121884833, 12.072561990614922, 12.04167385934501, 12.010785728075106, 11.979897596805195, 11.949009465535283, 11.91812133426538, 11.887233202995468, 11.856345071725556, 11.825456940455652, 11.79456880918574, 11.76368067791583, 11.732792546645925, 11.701904415376013, 11.671016284106102, 11.640128152836198, 11.609240021566286, 11.578351890296375, 11.54746375902647, 11.51657562775656, 11.485687496486648, 11.454799365216743, 11.423911233946832, 11.39302310267692, 11.362134971407016, 11.331246840137105, 11.300358708867194], [13.023188970271718, 12.992300839001814, 12.961412707731903, 12.930524576461991, 12.899636445192087, 12.868748313922175, 12.837860182652264, 12.80697205138236, 12.776083920112448, 12.745195788842537, 12.714307657572633, 12.683419526302721, 12.65253139503281, 12.621643263762898, 12.590755132492994, 12.559867001223083, 12.528978869953171, 12.498090738683267, 12.467202607413356, 12.436314476143444, 12.40542634487354, 12.374538213603628, 12.343650082333717, 12.312761951063813, 12.281873819793901, 12.25098568852399, 12.220097557254086, 12.189209425984174, 12.158321294714263, 12.127433163444358, 12.096545032174447, 12.065656900904536, 12.034768769634624, 12.00388063836472, 11.972992507094808, 11.942104375824897, 11.911216244554993, 11.880328113285081, 11.84943998201517, 11.818551850745266, 11.787663719475354, 11.756775588205443, 11.725887456935538, 11.694999325665627, 11.664111194395716, 11.633223063125811, 11.6023349318559, 11.571446800585989, 11.540558669316084, 11.509670538046173, 11.478782406776261, 11.447894275506357, 11.417006144236446, 11.386118012966534, 11.35522988169663, 11.324341750426719, 11.293453619156807, 11.262565487886896, 11.231677356616991, 11.20078922534708, 11.169901094077169, 11.139012962807264, 11.108124831537353, 11.077236700267441, 11.046348568997537, 11.015460437727626, 10.984572306457714, 10.95368417518781, 10.922796043917899, 10.891907912647987, 10.861019781378083, 10.830131650108171, 10.79924351883826, 10.768355387568349, 10.737467256298444, 10.706579125028533], [12.429409386433058, 12.398521255163153, 12.367633123893242, 12.33674499262333, 12.305856861353426, 12.274968730083515, 12.244080598813603, 12.2131924675437, 12.182304336273788, 12.151416205003876, 12.120528073733965, 12.08963994246406, 12.05875181119415, 12.027863679924238, 11.996975548654333, 11.966087417384422, 11.93519928611451, 11.904311154844606, 11.873423023574695, 11.842534892304784, 11.81164676103488, 11.780758629764968, 11.749870498495056, 11.718982367225152, 11.68809423595524, 11.65720610468533, 11.626317973415425, 11.595429842145514, 11.564541710875602, 11.533653579605698, 11.502765448335786, 11.471877317065875, 11.44098918579597, 11.41010105452606, 11.379212923256148, 11.348324791986236, 11.317436660716332, 11.28654852944642, 11.25566039817651, 11.224772266906605, 11.193884135636694, 11.162996004366782, 11.132107873096878, 11.101219741826966, 11.070331610557055, 11.03944347928715, 11.00855534801724, 10.977667216747328, 10.946779085477424, 10.915890954207512, 10.8850028229376, 10.85411469166769, 10.823226560397785, 10.792338429127874, 10.761450297857962, 10.730562166588058, 10.699674035318147, 10.668785904048235, 10.63789777277833, 10.60700964150842, 10.576121510238508, 10.545233378968604, 10.514345247698692, 10.48345711642878, 10.452568985158877, 10.421680853888965, 10.390792722619054, 10.35990459134915, 10.329016460079238, 10.298128328809327, 10.267240197539422, 10.23635206626951, 10.2054639349996, 10.174575803729695, 10.143687672459784, 10.112799541189872], [11.835629802594404, 11.8047416713245, 11.773853540054589, 11.742965408784677, 11.712077277514773, 11.681189146244861, 11.65030101497495, 11.619412883705046, 11.588524752435134, 11.557636621165223, 11.526748489895311, 11.495860358625407, 11.464972227355496, 11.434084096085584, 11.40319596481568, 11.372307833545769, 11.341419702275857, 11.310531571005953, 11.279643439736041, 11.24875530846613, 11.217867177196226, 11.186979045926314, 11.156090914656403, 11.125202783386499, 11.094314652116587, 11.063426520846676, 11.032538389576771, 11.00165025830686, 10.970762127036949, 10.939873995767044, 10.908985864497133, 10.878097733227222, 10.847209601957317, 10.816321470687406, 10.785433339417494, 10.754545208147583, 10.723657076877679, 10.692768945607767, 10.661880814337856, 10.630992683067952, 10.60010455179804, 10.569216420528129, 10.538328289258224, 10.507440157988313, 10.476552026718402, 10.445663895448497, 10.414775764178586, 10.383887632908674, 10.35299950163877, 10.322111370368859, 10.291223239098947, 10.260335107829036, 10.229446976559132, 10.19855884528922, 10.167670714019309, 10.136782582749404, 10.105894451479493, 10.075006320209582, 10.044118188939677, 10.013230057669766, 9.982341926399855, 9.95145379512995, 9.920565663860039, 9.889677532590127, 9.858789401320223, 9.827901270050312, 9.7970131387804, 9.766125007510496, 9.735236876240585, 9.704348744970673, 9.673460613700769, 9.642572482430857, 9.611684351160946, 9.580796219891042, 9.54990808862113, 9.519019957351219], [11.241850218755744, 11.21096208748584, 11.180073956215928, 11.149185824946017, 11.118297693676112, 11.0874095624062, 11.05652143113629, 11.025633299866385, 10.994745168596474, 10.963857037326562, 10.932968906056658, 10.902080774786747, 10.871192643516835, 10.840304512246924, 10.80941638097702, 10.778528249707108, 10.747640118437197, 10.716751987167292, 10.68586385589738, 10.65497572462747, 10.624087593357565, 10.593199462087654, 10.562311330817742, 10.531423199547838, 10.500535068277927, 10.469646937008015, 10.43875880573811, 10.4078706744682, 10.376982543198288, 10.346094411928384, 10.315206280658472, 10.284318149388561, 10.25343001811865, 10.222541886848745, 10.191653755578834, 10.160765624308922, 10.129877493039018, 10.098989361769107, 10.068101230499195, 10.037213099229291, 10.00632496795938, 9.975436836689468, 9.944548705419564, 9.913660574149652, 9.882772442879741, 9.851884311609837, 9.820996180339925, 9.790108049070014, 9.75921991780011, 9.728331786530198, 9.697443655260287, 9.666555523990382, 9.635667392720471, 9.60477926145056, 9.573891130180655, 9.543002998910744, 9.512114867640832, 9.481226736370921, 9.450338605101017, 9.419450473831105, 9.388562342561194, 9.35767421129129, 9.326786080021378, 9.295897948751467, 9.265009817481562, 9.234121686211651, 9.20323355494174, 9.172345423671835, 9.141457292401924, 9.110569161132013, 9.079681029862108, 9.048792898592197, 9.017904767322285, 8.987016636052374, 8.95612850478247, 8.925240373512558], [10.648070634917083, 10.617182503647179, 10.586294372377267, 10.555406241107356, 10.524518109837452, 10.49362997856754, 10.462741847297629, 10.431853716027724, 10.400965584757813, 10.370077453487902, 10.33918932221799, 10.308301190948086, 10.277413059678175, 10.246524928408263, 10.215636797138359, 10.184748665868447, 10.153860534598536, 10.122972403328632, 10.09208427205872, 10.061196140788809, 10.030308009518905, 9.999419878248993, 9.968531746979082, 9.937643615709177, 9.906755484439266, 9.875867353169355, 9.84497922189945, 9.814091090629539, 9.783202959359627, 9.752314828089723, 9.721426696819812, 9.6905385655499, 9.659650434279996, 9.628762303010085, 9.597874171740173, 9.566986040470262, 9.536097909200357, 9.505209777930446, 9.474321646660535, 9.44343351539063, 9.412545384120719, 9.381657252850808, 9.350769121580903, 9.319880990310992, 9.28899285904108, 9.258104727771176, 9.227216596501265, 9.196328465231353, 9.165440333961449, 9.134552202691538, 9.103664071421626, 9.072775940151715, 9.04188780888181, 9.010999677611899, 8.980111546341988, 8.949223415072083, 8.918335283802172, 8.88744715253226, 8.856559021262356, 8.825670889992445, 8.794782758722533, 8.763894627452629, 8.733006496182718, 8.702118364912806, 8.671230233642902, 8.64034210237299, 8.609453971103079, 8.578565839833175, 8.547677708563263, 8.516789577293352, 8.485901446023448, 8.455013314753536, 8.424125183483625, 8.39323705221372, 8.362348920943809, 8.331460789673898], [10.054291051078422, 10.023402919808518, 9.992514788538607, 9.961626657268695, 9.930738525998791, 9.89985039472888, 9.868962263458968, 9.838074132189064, 9.807186000919152, 9.776297869649241, 9.745409738379337, 9.714521607109425, 9.683633475839514, 9.652745344569603, 9.621857213299698, 9.590969082029787, 9.560080950759875, 9.529192819489971, 9.49830468822006, 9.467416556950148, 9.436528425680244, 9.405640294410333, 9.374752163140421, 9.343864031870517, 9.312975900600605, 9.282087769330694, 9.25119963806079, 9.220311506790878, 9.189423375520967, 9.158535244251063, 9.127647112981151, 9.09675898171124, 9.065870850441328, 9.034982719171424, 9.004094587901513, 8.973206456631601, 8.942318325361697, 8.911430194091785, 8.880542062821874, 8.84965393155197, 8.818765800282058, 8.787877669012147, 8.756989537742243, 8.726101406472331, 8.69521327520242, 8.664325143932516, 8.633437012662604, 8.602548881392693, 8.571660750122788, 8.540772618852877, 8.509884487582966, 8.478996356313061, 8.44810822504315, 8.417220093773238, 8.386331962503334, 8.355443831233423, 8.324555699963511, 8.2936675686936, 8.262779437423696, 8.231891306153784, 8.201003174883873, 8.170115043613968, 8.139226912344057, 8.108338781074146, 8.077450649804241, 8.04656251853433, 8.015674387264418, 7.984786255994514, 7.953898124724603, 7.923009993454691, 7.892121862184787, 7.861233730914876, 7.830345599644964, 7.799457468375053, 7.7685693371051485, 7.737681205835237], [9.460511467239762, 9.429623335969858, 9.398735204699946, 9.367847073430035, 9.33695894216013, 9.306070810890219, 9.275182679620308, 9.244294548350403, 9.213406417080492, 9.18251828581058, 9.151630154540669, 9.120742023270765, 9.089853892000853, 9.058965760730942, 9.028077629461038, 8.997189498191126, 8.966301366921215, 8.93541323565131, 8.904525104381399, 8.873636973111488, 8.842748841841583, 8.811860710571672, 8.78097257930176, 8.750084448031856, 8.719196316761945, 8.688308185492033, 8.65742005422213, 8.626531922952218, 8.595643791682306, 8.564755660412402, 8.53386752914249, 8.50297939787258, 8.472091266602675, 8.441203135332763, 8.410315004062852, 8.37942687279294, 8.348538741523036, 8.317650610253125, 8.286762478983213, 8.25587434771331, 8.224986216443398, 8.194098085173486, 8.163209953903582, 8.13232182263367, 8.10143369136376, 8.070545560093855, 8.039657428823944, 8.008769297554032, 7.977881166284128, 7.946993035014216, 7.916104903744305, 7.885216772474394, 7.854328641204489, 7.823440509934578, 7.792552378664666, 7.761664247394762, 7.730776116124851, 7.699887984854939, 7.668999853585035, 7.638111722315124, 7.607223591045212, 7.576335459775308, 7.5454473285053965, 7.514559197235485, 7.483671065965581, 7.452782934695669, 7.421894803425758, 7.391006672155854, 7.360118540885942, 7.329230409616031, 7.2983422783461265, 7.267454147076215, 7.236566015806304, 7.205677884536399, 7.174789753266488, 7.1439016219965765], [8.866731883401101, 8.835843752131197, 8.804955620861286, 8.774067489591374, 8.74317935832147, 8.712291227051558, 8.681403095781647, 8.650514964511743, 8.619626833241831, 8.58873870197192, 8.557850570702016, 8.526962439432104, 8.496074308162193, 8.465186176892281, 8.434298045622377, 8.403409914352466, 8.372521783082554, 8.34163365181265, 8.310745520542739, 8.279857389272827, 8.248969258002923, 8.218081126733011, 8.1871929954631, 8.156304864193196, 8.125416732923284, 8.094528601653373, 8.063640470383469, 8.032752339113557, 8.001864207843646, 7.970976076573741, 7.94008794530383, 7.909199814033919, 7.878311682764007, 7.847423551494103, 7.8165354202241915, 7.78564728895428, 7.754759157684376, 7.723871026414464, 7.692982895144553, 7.662094763874649, 7.631206632604737, 7.600318501334826, 7.5694303700649215, 7.53854223879501, 7.507654107525099, 7.476765976255194, 7.445877844985283, 7.4149897137153715, 7.384101582445467, 7.353213451175556, 7.322325319905644, 7.29143718863574, 7.260549057365829, 7.229660926095917, 7.198772794826013, 7.1678846635561015, 7.13699653228619, 7.106108401016279, 7.075220269746374, 7.044332138476463, 7.013444007206552, 6.982555875936647, 6.951667744666736, 6.9207796133968245, 6.88989148212692, 6.859003350857009, 6.828115219587097, 6.797227088317193, 6.766338957047282, 6.73545082577737, 6.704562694507466, 6.6736745632375545, 6.642786431967643, 6.611898300697732, 6.581010169427827, 6.550122038157916]]}],                        {\"legend\": {\"title\": {\"text\": \"poverty_pred\"}, \"tracegroupgap\": 0}, \"scene\": {\"domain\": {\"x\": [0.0, 1.0], \"y\": [0.0, 1.0]}, \"xaxis\": {\"title\": {\"text\": \"white\"}}, \"yaxis\": {\"title\": {\"text\": \"hs_grad\"}}, \"zaxis\": {\"title\": {\"text\": \"poverty\"}}}, \"template\": {\"data\": {\"bar\": [{\"error_x\": {\"color\": \"#2a3f5f\"}, \"error_y\": {\"color\": \"#2a3f5f\"}, \"marker\": {\"line\": {\"color\": \"#E5ECF6\", \"width\": 0.5}}, \"type\": \"bar\"}], \"barpolar\": [{\"marker\": {\"line\": {\"color\": \"#E5ECF6\", \"width\": 0.5}}, \"type\": \"barpolar\"}], \"carpet\": [{\"aaxis\": {\"endlinecolor\": \"#2a3f5f\", \"gridcolor\": \"white\", \"linecolor\": \"white\", \"minorgridcolor\": \"white\", \"startlinecolor\": \"#2a3f5f\"}, \"baxis\": {\"endlinecolor\": \"#2a3f5f\", \"gridcolor\": \"white\", \"linecolor\": \"white\", \"minorgridcolor\": \"white\", \"startlinecolor\": \"#2a3f5f\"}, \"type\": \"carpet\"}], \"choropleth\": [{\"colorbar\": {\"outlinewidth\": 0, \"ticks\": \"\"}, \"type\": \"choropleth\"}], \"contour\": [{\"colorbar\": {\"outlinewidth\": 0, \"ticks\": \"\"}, \"colorscale\": [[0.0, \"#0d0887\"], [0.1111111111111111, \"#46039f\"], [0.2222222222222222, \"#7201a8\"], [0.3333333333333333, \"#9c179e\"], [0.4444444444444444, \"#bd3786\"], [0.5555555555555556, \"#d8576b\"], [0.6666666666666666, \"#ed7953\"], [0.7777777777777778, \"#fb9f3a\"], [0.8888888888888888, \"#fdca26\"], [1.0, \"#f0f921\"]], \"type\": \"contour\"}], \"contourcarpet\": [{\"colorbar\": {\"outlinewidth\": 0, \"ticks\": \"\"}, \"type\": \"contourcarpet\"}], \"heatmap\": [{\"colorbar\": {\"outlinewidth\": 0, \"ticks\": \"\"}, \"colorscale\": [[0.0, \"#0d0887\"], [0.1111111111111111, \"#46039f\"], [0.2222222222222222, \"#7201a8\"], [0.3333333333333333, \"#9c179e\"], [0.4444444444444444, \"#bd3786\"], [0.5555555555555556, \"#d8576b\"], [0.6666666666666666, \"#ed7953\"], [0.7777777777777778, \"#fb9f3a\"], [0.8888888888888888, \"#fdca26\"], [1.0, \"#f0f921\"]], \"type\": \"heatmap\"}], \"heatmapgl\": [{\"colorbar\": {\"outlinewidth\": 0, \"ticks\": \"\"}, \"colorscale\": [[0.0, \"#0d0887\"], [0.1111111111111111, \"#46039f\"], [0.2222222222222222, \"#7201a8\"], [0.3333333333333333, \"#9c179e\"], [0.4444444444444444, \"#bd3786\"], [0.5555555555555556, \"#d8576b\"], [0.6666666666666666, \"#ed7953\"], [0.7777777777777778, \"#fb9f3a\"], [0.8888888888888888, \"#fdca26\"], [1.0, \"#f0f921\"]], \"type\": \"heatmapgl\"}], \"histogram\": [{\"marker\": {\"colorbar\": {\"outlinewidth\": 0, \"ticks\": \"\"}}, \"type\": \"histogram\"}], \"histogram2d\": [{\"colorbar\": {\"outlinewidth\": 0, \"ticks\": \"\"}, \"colorscale\": [[0.0, \"#0d0887\"], [0.1111111111111111, \"#46039f\"], [0.2222222222222222, \"#7201a8\"], [0.3333333333333333, \"#9c179e\"], [0.4444444444444444, \"#bd3786\"], [0.5555555555555556, \"#d8576b\"], [0.6666666666666666, \"#ed7953\"], [0.7777777777777778, \"#fb9f3a\"], [0.8888888888888888, \"#fdca26\"], [1.0, \"#f0f921\"]], \"type\": \"histogram2d\"}], \"histogram2dcontour\": [{\"colorbar\": {\"outlinewidth\": 0, \"ticks\": \"\"}, \"colorscale\": [[0.0, \"#0d0887\"], [0.1111111111111111, \"#46039f\"], [0.2222222222222222, \"#7201a8\"], [0.3333333333333333, \"#9c179e\"], [0.4444444444444444, \"#bd3786\"], [0.5555555555555556, \"#d8576b\"], [0.6666666666666666, \"#ed7953\"], [0.7777777777777778, \"#fb9f3a\"], [0.8888888888888888, \"#fdca26\"], [1.0, \"#f0f921\"]], \"type\": \"histogram2dcontour\"}], \"mesh3d\": [{\"colorbar\": {\"outlinewidth\": 0, \"ticks\": \"\"}, \"type\": \"mesh3d\"}], \"parcoords\": [{\"line\": {\"colorbar\": {\"outlinewidth\": 0, \"ticks\": \"\"}}, \"type\": \"parcoords\"}], \"pie\": [{\"automargin\": true, \"type\": \"pie\"}], \"scatter\": [{\"marker\": {\"colorbar\": {\"outlinewidth\": 0, \"ticks\": \"\"}}, \"type\": \"scatter\"}], \"scatter3d\": [{\"line\": {\"colorbar\": {\"outlinewidth\": 0, \"ticks\": \"\"}}, \"marker\": {\"colorbar\": {\"outlinewidth\": 0, \"ticks\": \"\"}}, \"type\": \"scatter3d\"}], \"scattercarpet\": [{\"marker\": {\"colorbar\": {\"outlinewidth\": 0, \"ticks\": \"\"}}, \"type\": \"scattercarpet\"}], \"scattergeo\": [{\"marker\": {\"colorbar\": {\"outlinewidth\": 0, \"ticks\": \"\"}}, \"type\": \"scattergeo\"}], \"scattergl\": [{\"marker\": {\"colorbar\": {\"outlinewidth\": 0, \"ticks\": \"\"}}, \"type\": \"scattergl\"}], \"scattermapbox\": [{\"marker\": {\"colorbar\": {\"outlinewidth\": 0, \"ticks\": \"\"}}, \"type\": \"scattermapbox\"}], \"scatterpolar\": [{\"marker\": {\"colorbar\": {\"outlinewidth\": 0, \"ticks\": \"\"}}, \"type\": \"scatterpolar\"}], \"scatterpolargl\": [{\"marker\": {\"colorbar\": {\"outlinewidth\": 0, \"ticks\": \"\"}}, \"type\": \"scatterpolargl\"}], \"scatterternary\": [{\"marker\": {\"colorbar\": {\"outlinewidth\": 0, \"ticks\": \"\"}}, \"type\": \"scatterternary\"}], \"surface\": [{\"colorbar\": {\"outlinewidth\": 0, \"ticks\": \"\"}, \"colorscale\": [[0.0, \"#0d0887\"], [0.1111111111111111, \"#46039f\"], [0.2222222222222222, \"#7201a8\"], [0.3333333333333333, \"#9c179e\"], [0.4444444444444444, \"#bd3786\"], [0.5555555555555556, \"#d8576b\"], [0.6666666666666666, \"#ed7953\"], [0.7777777777777778, \"#fb9f3a\"], [0.8888888888888888, \"#fdca26\"], [1.0, \"#f0f921\"]], \"type\": \"surface\"}], \"table\": [{\"cells\": {\"fill\": {\"color\": \"#EBF0F8\"}, \"line\": {\"color\": \"white\"}}, \"header\": {\"fill\": {\"color\": \"#C8D4E3\"}, \"line\": {\"color\": \"white\"}}, \"type\": \"table\"}]}, \"layout\": {\"annotationdefaults\": {\"arrowcolor\": \"#2a3f5f\", \"arrowhead\": 0, \"arrowwidth\": 1}, \"autotypenumbers\": \"strict\", \"coloraxis\": {\"colorbar\": {\"outlinewidth\": 0, \"ticks\": \"\"}}, \"colorscale\": {\"diverging\": [[0, \"#8e0152\"], [0.1, \"#c51b7d\"], [0.2, \"#de77ae\"], [0.3, \"#f1b6da\"], [0.4, \"#fde0ef\"], [0.5, \"#f7f7f7\"], [0.6, \"#e6f5d0\"], [0.7, \"#b8e186\"], [0.8, \"#7fbc41\"], [0.9, \"#4d9221\"], [1, \"#276419\"]], \"sequential\": [[0.0, \"#0d0887\"], [0.1111111111111111, \"#46039f\"], [0.2222222222222222, \"#7201a8\"], [0.3333333333333333, \"#9c179e\"], [0.4444444444444444, \"#bd3786\"], [0.5555555555555556, \"#d8576b\"], [0.6666666666666666, \"#ed7953\"], [0.7777777777777778, \"#fb9f3a\"], [0.8888888888888888, \"#fdca26\"], [1.0, \"#f0f921\"]], \"sequentialminus\": [[0.0, \"#0d0887\"], [0.1111111111111111, \"#46039f\"], [0.2222222222222222, \"#7201a8\"], [0.3333333333333333, \"#9c179e\"], [0.4444444444444444, \"#bd3786\"], [0.5555555555555556, \"#d8576b\"], [0.6666666666666666, \"#ed7953\"], [0.7777777777777778, \"#fb9f3a\"], [0.8888888888888888, \"#fdca26\"], [1.0, \"#f0f921\"]]}, \"colorway\": [\"#636efa\", \"#EF553B\", \"#00cc96\", \"#ab63fa\", \"#FFA15A\", \"#19d3f3\", \"#FF6692\", \"#B6E880\", \"#FF97FF\", \"#FECB52\"], \"font\": {\"color\": \"#2a3f5f\"}, \"geo\": {\"bgcolor\": \"white\", \"lakecolor\": \"white\", \"landcolor\": \"#E5ECF6\", \"showlakes\": true, \"showland\": true, \"subunitcolor\": \"white\"}, \"hoverlabel\": {\"align\": \"left\"}, \"hovermode\": \"closest\", \"mapbox\": {\"style\": \"light\"}, \"paper_bgcolor\": \"white\", \"plot_bgcolor\": \"#E5ECF6\", \"polar\": {\"angularaxis\": {\"gridcolor\": \"white\", \"linecolor\": \"white\", \"ticks\": \"\"}, \"bgcolor\": \"#E5ECF6\", \"radialaxis\": {\"gridcolor\": \"white\", \"linecolor\": \"white\", \"ticks\": \"\"}}, \"scene\": {\"xaxis\": {\"backgroundcolor\": \"#E5ECF6\", \"gridcolor\": \"white\", \"gridwidth\": 2, \"linecolor\": \"white\", \"showbackground\": true, \"ticks\": \"\", \"zerolinecolor\": \"white\"}, \"yaxis\": {\"backgroundcolor\": \"#E5ECF6\", \"gridcolor\": \"white\", \"gridwidth\": 2, \"linecolor\": \"white\", \"showbackground\": true, \"ticks\": \"\", \"zerolinecolor\": \"white\"}, \"zaxis\": {\"backgroundcolor\": \"#E5ECF6\", \"gridcolor\": \"white\", \"gridwidth\": 2, \"linecolor\": \"white\", \"showbackground\": true, \"ticks\": \"\", \"zerolinecolor\": \"white\"}}, \"shapedefaults\": {\"line\": {\"color\": \"#2a3f5f\"}}, \"ternary\": {\"aaxis\": {\"gridcolor\": \"white\", \"linecolor\": \"white\", \"ticks\": \"\"}, \"baxis\": {\"gridcolor\": \"white\", \"linecolor\": \"white\", \"ticks\": \"\"}, \"bgcolor\": \"#E5ECF6\", \"caxis\": {\"gridcolor\": \"white\", \"linecolor\": \"white\", \"ticks\": \"\"}}, \"title\": {\"x\": 0.05}, \"xaxis\": {\"automargin\": true, \"gridcolor\": \"white\", \"linecolor\": \"white\", \"ticks\": \"\", \"title\": {\"standoff\": 15}, \"zerolinecolor\": \"white\", \"zerolinewidth\": 2}, \"yaxis\": {\"automargin\": true, \"gridcolor\": \"white\", \"linecolor\": \"white\", \"ticks\": \"\", \"title\": {\"standoff\": 15}, \"zerolinecolor\": \"white\", \"zerolinewidth\": 2}}}, \"title\": {\"text\": \"\\u0437\\u0430\\u0432\\u0438\\u0441\\u0438\\u043e\\u0441\\u0442\\u044c \\u043f\\u0440\\u043e\\u0446\\u0435\\u043d\\u0442\\u0430 \\u0431\\u0435\\u043b\\u043e\\u0433\\u043e \\u043d\\u0430\\u0441\\u0435\\u043b\\u0435\\u043d\\u0438\\u044f \\u0438 \\u0443\\u0440\\u043e\\u0432\\u043d\\u044f \\u043e\\u0431\\u0440\\u0430\\u0437\\u043e\\u0432\\u0430\\u043d\\u0438\\u044f \\u043d\\u0430 \\u0431\\u0435\\u0434\\u043d\\u043e\\u0441\\u0442\\u044c \\u043d\\u0430\\u0441\\u0435\\u043b\\u0435\\u043d\\u0438\\u044f\"}},                        {\"responsive\": true}                    ).then(function(){\n",
       "                            \n",
       "var gd = document.getElementById('88373f3f-6d68-460d-aad6-05ba98dec789');\n",
       "var x = new MutationObserver(function (mutations, observer) {{\n",
       "        var display = window.getComputedStyle(gd).display;\n",
       "        if (!display || display === 'none') {{\n",
       "            console.log([gd, 'removed!']);\n",
       "            Plotly.purge(gd);\n",
       "            observer.disconnect();\n",
       "        }}\n",
       "}});\n",
       "\n",
       "// Listen for the removal of the full notebook cells\n",
       "var notebookContainer = gd.closest('#notebook-container');\n",
       "if (notebookContainer) {{\n",
       "    x.observe(notebookContainer, {childList: true});\n",
       "}}\n",
       "\n",
       "// Listen for the clearing of the current output cell\n",
       "var outputEl = gd.closest('.output');\n",
       "if (outputEl) {{\n",
       "    x.observe(outputEl, {childList: true});\n",
       "}}\n",
       "\n",
       "                        })                };                });            </script>        </div>"
      ]
     },
     "metadata": {},
     "output_type": "display_data"
    }
   ],
   "source": [
    "import pandas as pd\n",
    "import plotly.express as px\n",
    "import plotly.graph_objects as go\n",
    "import numpy as np\n",
    "import statsmodels.formula.api as smf\n",
    "\n",
    "df = pd.read_csv('data/states.csv')\n",
    "\n",
    "# Построим плоскость предсказания\n",
    "lm = smf.ols(formula='poverty ~ white + hs_grad', data=df).fit()\n",
    "mesh_size = 1.0\n",
    "margin = 2.0\n",
    "x_min, x_max = df.white.min()- margin, df.white.max() + margin\n",
    "y_min, y_max = df.hs_grad.min()- margin, df.hs_grad.max() + margin\n",
    "z_pred = lambda x, y: lm.params.white * x  + lm.params.hs_grad * y + lm.params.Intercept\n",
    "x_range = np.arange(x_min, x_max, mesh_size)\n",
    "y_range = np.arange(y_min, y_max, mesh_size)\n",
    "z_range = np.array([[z_pred(x, y) for x in x_range] for y in y_range])\n",
    "\n",
    "# какие значения выше предсказания, а какие ниже\n",
    "df['poverty_pred'] = np.array([poverty >= z_pred(df.white[i], df.hs_grad[i]) for i, poverty in df.poverty.items()])\n",
    "\n",
    "# составим график\n",
    "fig = px.scatter_3d(df, x='white', y='hs_grad', z='poverty',\n",
    "                    color='poverty_pred', color_discrete_sequence=['red', 'green'],\n",
    "                   title='зависиость процента белого населения и уровня образования на бедность населения')\n",
    "fig.update_traces(marker=dict(size=3))\n",
    "fig.add_traces(go.Surface(x=x_range,y=y_range, z=z_range, name='prediction', opacity=0.8))\n",
    "fig.show()\n"
   ]
  },
  {
   "cell_type": "markdown",
   "metadata": {},
   "source": [
    "##  Выбор наилучшей модели\n"
   ]
  },
  {
   "cell_type": "markdown",
   "metadata": {},
   "source": [
    "## Классификация: логистическая регрессия и кластерный анализ"
   ]
  },
  {
   "cell_type": "markdown",
   "metadata": {},
   "source": [
    "\n",
    "# Полезные ссылки\n",
    "\n",
    "- https://gallery.shinyapps.io/dist_calc/\n",
    "    - сайт где можно визуализировать различные распределения и вести подсчёты"
   ]
  }
 ],
 "metadata": {
  "kernelspec": {
   "display_name": "Python 3",
   "language": "python",
   "name": "python3"
  },
  "language_info": {
   "codemirror_mode": {
    "name": "ipython",
    "version": 3
   },
   "file_extension": ".py",
   "mimetype": "text/x-python",
   "name": "python",
   "nbconvert_exporter": "python",
   "pygments_lexer": "ipython3",
   "version": "3.8.5"
  }
 },
 "nbformat": 4,
 "nbformat_minor": 4
}
